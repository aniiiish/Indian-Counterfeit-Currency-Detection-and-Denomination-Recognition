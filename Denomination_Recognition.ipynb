{
  "nbformat": 4,
  "nbformat_minor": 0,
  "metadata": {
    "colab": {
      "provenance": [],
      "collapsed_sections": []
    },
    "kernelspec": {
      "name": "python3",
      "display_name": "Python 3"
    },
    "language_info": {
      "name": "python"
    },
    "accelerator": "GPU"
  },
  "cells": [
    {
      "cell_type": "code",
      "execution_count": null,
      "metadata": {
        "colab": {
          "base_uri": "https://localhost:8080/"
        },
        "id": "R2M9enxmt1v5",
        "outputId": "3f0fab61-743a-4365-99ce-3d1717a310f8"
      },
      "outputs": [
        {
          "output_type": "stream",
          "name": "stdout",
          "text": [
            "Mounted at /content/drive\n"
          ]
        }
      ],
      "source": [
        "from google.colab import drive\n",
        "drive.mount(\"/content/drive\", force_remount=True)"
      ]
    },
    {
      "cell_type": "code",
      "source": [
        "!unzip -q '/content/drive/MyDrive/BTP/dataset_r_kaggle.zip' -d '/content'"
      ],
      "metadata": {
        "id": "cBF76VbyuXxh"
      },
      "execution_count": null,
      "outputs": []
    },
    {
      "cell_type": "code",
      "source": [
        "!pip install path"
      ],
      "metadata": {
        "colab": {
          "base_uri": "https://localhost:8080/"
        },
        "id": "15yosRQF_GWP",
        "outputId": "0300b281-5b5a-49d8-b11c-47a78426b9dd"
      },
      "execution_count": null,
      "outputs": [
        {
          "output_type": "stream",
          "name": "stdout",
          "text": [
            "Looking in indexes: https://pypi.org/simple, https://us-python.pkg.dev/colab-wheels/public/simple/\n",
            "Collecting path\n",
            "  Downloading path-16.4.0-py3-none-any.whl (26 kB)\n",
            "Installing collected packages: path\n",
            "Successfully installed path-16.4.0\n"
          ]
        }
      ]
    },
    {
      "cell_type": "code",
      "source": [
        "import numpy as np \n",
        "import pandas as pd \n",
        "import matplotlib.pyplot as plt\n",
        "import path\n",
        "import os\n",
        "%matplotlib inline\n",
        "import tensorflow as tf\n",
        "from tensorflow.python import keras\n",
        "from tensorflow.python.keras.models import Sequential\n",
        "from tensorflow.python.keras.layers import Dense,Conv2D,MaxPooling2D,Dropout,Flatten\n",
        "from pathlib import Path\n",
        "\n",
        "import tensorflow\n",
        "from tensorflow import keras\n",
        "from tensorflow.keras.applications.efficientnet_v2 import EfficientNetV2S\n",
        "from tensorflow.keras.applications.vgg16 import VGG16\n",
        "from tensorflow.keras.applications.resnet50 import ResNet50\n",
        "from tensorflow.keras.preprocessing import image\n",
        "from tensorflow.keras.models import load_model\n",
        "from tensorflow.keras.applications.efficientnet_v2 import preprocess_input, decode_predictions\n",
        "from keras.utils.np_utils import to_categorical\n",
        "import numpy as np\n",
        "import os, shutil\n",
        "from keras.models import Sequential,load_model,Model\n",
        "from keras.layers import Conv2D,MaxPool2D,AveragePooling2D,Dense,Flatten,ZeroPadding2D,BatchNormalization,Activation,Add,Input,Dropout,GlobalAveragePooling2D\n",
        "from keras.initializers import glorot_uniform\n",
        "from keras.preprocessing.image import ImageDataGenerator\n",
        "from keras.callbacks import ModelCheckpoint,EarlyStopping,ReduceLROnPlateau"
      ],
      "metadata": {
        "id": "ItuDKMPuyliB"
      },
      "execution_count": null,
      "outputs": []
    },
    {
      "cell_type": "code",
      "source": [
        "data_path = '/content/dataset_r_kaggle/'"
      ],
      "metadata": {
        "id": "_BoOdl-mzT8G"
      },
      "execution_count": null,
      "outputs": []
    },
    {
      "cell_type": "code",
      "source": [
        "my_images = os.listdir(data_path + 'test')\n",
        "\n",
        "classes = ['10', '100', '20', '200', '2000', '50', '500', 'Background']\n",
        "\n",
        "for cls in classes:\n",
        "    cls_dir = data_path + 'test/' + cls\n",
        "    if not os.path.exists(cls_dir):\n",
        "      os.mkdir(cls_dir)\n"
      ],
      "metadata": {
        "id": "gYb5Uclfz72U"
      },
      "execution_count": null,
      "outputs": []
    },
    {
      "cell_type": "code",
      "source": [
        "print(my_images[0].split('.'))"
      ],
      "metadata": {
        "colab": {
          "base_uri": "https://localhost:8080/"
        },
        "id": "SHmY7N175DUJ",
        "outputId": "efb3a4f3-3890-435b-bffb-3b75a5b8370c"
      },
      "execution_count": null,
      "outputs": [
        {
          "output_type": "stream",
          "name": "stdout",
          "text": [
            "['200', '__402', 'jpg']\n"
          ]
        }
      ]
    },
    {
      "cell_type": "code",
      "source": [
        "import shutil\n",
        "\n",
        "for image in my_images:\n",
        "  splitting = image.split('_')\n",
        "  if splitting[0][-1]=='.':\n",
        "    splitting[0] = splitting[0][:-1]\n",
        "  shutil.copyfile(data_path+'test/'+image,data_path+'test/'+splitting[0]+'/'+image)"
      ],
      "metadata": {
        "id": "I3zygnrQ3Res"
      },
      "execution_count": null,
      "outputs": []
    },
    {
      "cell_type": "code",
      "source": [
        "!rm /content/dataset_r_kaggle/test/*.jpg"
      ],
      "metadata": {
        "id": "hcYUPJPT7sdc"
      },
      "execution_count": null,
      "outputs": []
    },
    {
      "cell_type": "code",
      "source": [
        "data_agumentation=ImageDataGenerator(rescale=0./255,\n",
        "                             shear_range=0.2,\n",
        "                             zoom_range=0.2,\n",
        "                             horizontal_flip=True,\n",
        "                             vertical_flip=True\n",
        "\n",
        ")\n",
        "\n",
        "# load training data\n",
        "train_data=data_agumentation.flow_from_directory(directory=data_path + 'training',\n",
        "                                                 target_size=(256,256),\n",
        "                                                 class_mode='categorical',\n",
        "                                                batch_size=32 \n",
        "                                               )\n",
        "\n",
        "#load validation data\n",
        "val_data=ImageDataGenerator().flow_from_directory(directory=data_path + 'validation',\n",
        "                                                      target_size=(256,256),\n",
        "                                                       class_mode='categorical',\n",
        "                                                       batch_size=32\n",
        "                                                      )\n",
        "\n",
        "#load test data\n",
        "test_data=ImageDataGenerator().flow_from_directory(directory=data_path + 'test',\n",
        "                                                      target_size=(256,256),\n",
        "                                                       class_mode='categorical',\n",
        "                                                       batch_size=32\n",
        "                                                      )"
      ],
      "metadata": {
        "colab": {
          "base_uri": "https://localhost:8080/"
        },
        "id": "dphRwyrUCBJ5",
        "outputId": "d1b6e2e6-0c18-4454-c54b-44a4a262409f"
      },
      "execution_count": null,
      "outputs": [
        {
          "output_type": "stream",
          "name": "stdout",
          "text": [
            "Found 3566 images belonging to 8 classes.\n",
            "Found 345 images belonging to 8 classes.\n",
            "Found 91 images belonging to 8 classes.\n"
          ]
        }
      ]
    },
    {
      "cell_type": "markdown",
      "source": [
        "EfficientNetV2S"
      ],
      "metadata": {
        "id": "whVTfTYjsXwF"
      }
    },
    {
      "cell_type": "code",
      "source": [
        "base_model_tf=EfficientNetV2S(include_top=False,weights='imagenet',input_shape=(224,224,3),classes=8)"
      ],
      "metadata": {
        "colab": {
          "base_uri": "https://localhost:8080/"
        },
        "id": "Aiy33cN_8dVV",
        "outputId": "17a06143-2a2e-49d9-f185-32df18df2838"
      },
      "execution_count": null,
      "outputs": [
        {
          "output_type": "stream",
          "name": "stdout",
          "text": [
            "Downloading data from https://storage.googleapis.com/tensorflow/keras-applications/efficientnet_v2/efficientnetv2-s_notop.h5\n",
            "82427904/82420632 [==============================] - 0s 0us/step\n",
            "82436096/82420632 [==============================] - 0s 0us/step\n"
          ]
        }
      ]
    },
    {
      "cell_type": "code",
      "source": [
        "from keras.utils.vis_utils import plot_model\n",
        "plot_model(base_model_tf, to_file='enet_recog.png')"
      ],
      "metadata": {
        "id": "rhzwN22q9YYV"
      },
      "execution_count": null,
      "outputs": []
    },
    {
      "cell_type": "code",
      "source": [
        "base_model_tf.trainable=False\n",
        "\n",
        "pt=Input(shape=(224,224,3))\n",
        "func=tensorflow.cast(pt,tensorflow.float32)\n",
        "x=preprocess_input(func) \n",
        "model_effnet = base_model_tf(x,training=False)\n",
        "model_effnet = GlobalAveragePooling2D()(model_effnet)\n",
        "model_effnet = Dense(128,activation='relu')(model_effnet)\n",
        "model_effnet = Dense(64,activation='relu')(model_effnet)\n",
        "model_effnet = Dense(8,activation='softmax')(model_effnet)\n",
        "\n",
        "\n",
        "model_main = Model(inputs=pt,outputs=model_effnet)\n",
        "model_main.summary()"
      ],
      "metadata": {
        "colab": {
          "base_uri": "https://localhost:8080/"
        },
        "id": "fWm-Xdnu8wdT",
        "outputId": "3e2be112-2eaf-4dd2-ae1e-c8911780eb7c"
      },
      "execution_count": null,
      "outputs": [
        {
          "output_type": "stream",
          "name": "stdout",
          "text": [
            "Model: \"model\"\n",
            "_________________________________________________________________\n",
            " Layer (type)                Output Shape              Param #   \n",
            "=================================================================\n",
            " input_2 (InputLayer)        [(None, 224, 224, 3)]     0         \n",
            "                                                                 \n",
            " tf.cast (TFOpLambda)        (None, 224, 224, 3)       0         \n",
            "                                                                 \n",
            " efficientnetv2-s (Functiona  (None, 7, 7, 1280)       20331360  \n",
            " l)                                                              \n",
            "                                                                 \n",
            " global_average_pooling2d (G  (None, 1280)             0         \n",
            " lobalAveragePooling2D)                                          \n",
            "                                                                 \n",
            " dense (Dense)               (None, 128)               163968    \n",
            "                                                                 \n",
            " dense_1 (Dense)             (None, 64)                8256      \n",
            "                                                                 \n",
            " dense_2 (Dense)             (None, 8)                 520       \n",
            "                                                                 \n",
            "=================================================================\n",
            "Total params: 20,504,104\n",
            "Trainable params: 172,744\n",
            "Non-trainable params: 20,331,360\n",
            "_________________________________________________________________\n"
          ]
        }
      ]
    },
    {
      "cell_type": "code",
      "source": [
        "es=EarlyStopping(monitor='accuracy',verbose=1,patience=5,mode='auto')\n",
        "mc=ModelCheckpoint(filepath='/content',monitor='val_accuracy',verbose=1,save_best_only=True)\n",
        "lr=ReduceLROnPlateau(monitor='val_accuracy',verbose=1,patience=3,min_lr=0.001)"
      ],
      "metadata": {
        "id": "MbozD4lH8zWe"
      },
      "execution_count": null,
      "outputs": []
    },
    {
      "cell_type": "code",
      "source": [
        "model_main.compile(optimizer='Adam',loss='categorical_crossentropy',metrics=['accuracy'])"
      ],
      "metadata": {
        "id": "Dg30KcS682Hm"
      },
      "execution_count": null,
      "outputs": []
    },
    {
      "cell_type": "code",
      "source": [
        "model_main.fit(train_data,validation_data=val_data,epochs=50, steps_per_epoch=50,verbose=1,callbacks=[es, lr, mc])"
      ],
      "metadata": {
        "colab": {
          "base_uri": "https://localhost:8080/"
        },
        "id": "L7gUB4MO89FI",
        "outputId": "19029b21-d1b4-40da-bd5a-f5ef6d028747"
      },
      "execution_count": null,
      "outputs": [
        {
          "output_type": "stream",
          "name": "stdout",
          "text": [
            "Epoch 1/50\n",
            "50/50 [==============================] - ETA: 0s - loss: 1.5253 - accuracy: 0.4663"
          ]
        },
        {
          "output_type": "stream",
          "name": "stderr",
          "text": [
            "/usr/local/lib/python3.7/dist-packages/PIL/TiffImagePlugin.py:788: UserWarning: Corrupt EXIF data.  Expecting to read 4 bytes but only got 0. \n",
            "  warnings.warn(str(msg))\n"
          ]
        },
        {
          "output_type": "stream",
          "name": "stdout",
          "text": [
            "\n",
            "Epoch 1: val_accuracy improved from -inf to 0.64638, saving model to /content\n",
            "50/50 [==============================] - 248s 5s/step - loss: 1.5253 - accuracy: 0.4663 - val_loss: 1.1168 - val_accuracy: 0.6464 - lr: 0.0010\n",
            "Epoch 2/50\n",
            "50/50 [==============================] - ETA: 0s - loss: 0.8357 - accuracy: 0.7269"
          ]
        },
        {
          "output_type": "stream",
          "name": "stderr",
          "text": [
            "/usr/local/lib/python3.7/dist-packages/PIL/TiffImagePlugin.py:788: UserWarning: Corrupt EXIF data.  Expecting to read 4 bytes but only got 0. \n",
            "  warnings.warn(str(msg))\n"
          ]
        },
        {
          "output_type": "stream",
          "name": "stdout",
          "text": [
            "\n",
            "Epoch 2: val_accuracy improved from 0.64638 to 0.77681, saving model to /content\n",
            "50/50 [==============================] - 221s 4s/step - loss: 0.8357 - accuracy: 0.7269 - val_loss: 0.7097 - val_accuracy: 0.7768 - lr: 0.0010\n",
            "Epoch 3/50\n",
            "50/50 [==============================] - ETA: 0s - loss: 0.5961 - accuracy: 0.8106"
          ]
        },
        {
          "output_type": "stream",
          "name": "stderr",
          "text": [
            "/usr/local/lib/python3.7/dist-packages/PIL/TiffImagePlugin.py:788: UserWarning: Corrupt EXIF data.  Expecting to read 4 bytes but only got 0. \n",
            "  warnings.warn(str(msg))\n"
          ]
        },
        {
          "output_type": "stream",
          "name": "stdout",
          "text": [
            "\n",
            "Epoch 3: val_accuracy improved from 0.77681 to 0.80870, saving model to /content\n",
            "50/50 [==============================] - 234s 5s/step - loss: 0.5961 - accuracy: 0.8106 - val_loss: 0.5750 - val_accuracy: 0.8087 - lr: 0.0010\n",
            "Epoch 4/50\n",
            "50/50 [==============================] - ETA: 0s - loss: 0.4836 - accuracy: 0.8462"
          ]
        },
        {
          "output_type": "stream",
          "name": "stderr",
          "text": [
            "/usr/local/lib/python3.7/dist-packages/PIL/TiffImagePlugin.py:788: UserWarning: Corrupt EXIF data.  Expecting to read 4 bytes but only got 0. \n",
            "  warnings.warn(str(msg))\n"
          ]
        },
        {
          "output_type": "stream",
          "name": "stdout",
          "text": [
            "\n",
            "Epoch 4: val_accuracy improved from 0.80870 to 0.87536, saving model to /content\n",
            "50/50 [==============================] - 217s 4s/step - loss: 0.4836 - accuracy: 0.8462 - val_loss: 0.4552 - val_accuracy: 0.8754 - lr: 0.0010\n",
            "Epoch 5/50\n",
            "50/50 [==============================] - ETA: 0s - loss: 0.3957 - accuracy: 0.8781"
          ]
        },
        {
          "output_type": "stream",
          "name": "stderr",
          "text": [
            "/usr/local/lib/python3.7/dist-packages/PIL/TiffImagePlugin.py:788: UserWarning: Corrupt EXIF data.  Expecting to read 4 bytes but only got 0. \n",
            "  warnings.warn(str(msg))\n"
          ]
        },
        {
          "output_type": "stream",
          "name": "stdout",
          "text": [
            "\n",
            "Epoch 5: val_accuracy did not improve from 0.87536\n",
            "50/50 [==============================] - 135s 3s/step - loss: 0.3957 - accuracy: 0.8781 - val_loss: 0.4264 - val_accuracy: 0.8754 - lr: 0.0010\n",
            "Epoch 6/50\n",
            "50/50 [==============================] - ETA: 0s - loss: 0.3537 - accuracy: 0.8831\n",
            "Epoch 6: val_accuracy improved from 0.87536 to 0.89275, saving model to /content\n",
            "50/50 [==============================] - 217s 4s/step - loss: 0.3537 - accuracy: 0.8831 - val_loss: 0.3857 - val_accuracy: 0.8928 - lr: 0.0010\n",
            "Epoch 7/50\n",
            "50/50 [==============================] - ETA: 0s - loss: 0.3087 - accuracy: 0.9056"
          ]
        },
        {
          "output_type": "stream",
          "name": "stderr",
          "text": [
            "/usr/local/lib/python3.7/dist-packages/PIL/TiffImagePlugin.py:788: UserWarning: Corrupt EXIF data.  Expecting to read 4 bytes but only got 0. \n",
            "  warnings.warn(str(msg))\n"
          ]
        },
        {
          "output_type": "stream",
          "name": "stdout",
          "text": [
            "\n",
            "Epoch 7: val_accuracy improved from 0.89275 to 0.90435, saving model to /content\n",
            "50/50 [==============================] - 218s 4s/step - loss: 0.3087 - accuracy: 0.9056 - val_loss: 0.3590 - val_accuracy: 0.9043 - lr: 0.0010\n",
            "Epoch 8/50\n",
            "50/50 [==============================] - ETA: 0s - loss: 0.2628 - accuracy: 0.9125"
          ]
        },
        {
          "output_type": "stream",
          "name": "stderr",
          "text": [
            "/usr/local/lib/python3.7/dist-packages/PIL/TiffImagePlugin.py:788: UserWarning: Corrupt EXIF data.  Expecting to read 4 bytes but only got 0. \n",
            "  warnings.warn(str(msg))\n"
          ]
        },
        {
          "output_type": "stream",
          "name": "stdout",
          "text": [
            "\n",
            "Epoch 8: val_accuracy improved from 0.90435 to 0.92464, saving model to /content\n",
            "50/50 [==============================] - 219s 4s/step - loss: 0.2628 - accuracy: 0.9125 - val_loss: 0.3167 - val_accuracy: 0.9246 - lr: 0.0010\n",
            "Epoch 9/50\n",
            "50/50 [==============================] - ETA: 0s - loss: 0.2724 - accuracy: 0.9140"
          ]
        },
        {
          "output_type": "stream",
          "name": "stderr",
          "text": [
            "/usr/local/lib/python3.7/dist-packages/PIL/TiffImagePlugin.py:788: UserWarning: Corrupt EXIF data.  Expecting to read 4 bytes but only got 0. \n",
            "  warnings.warn(str(msg))\n"
          ]
        },
        {
          "output_type": "stream",
          "name": "stdout",
          "text": [
            "\n",
            "Epoch 9: val_accuracy did not improve from 0.92464\n",
            "50/50 [==============================] - 130s 3s/step - loss: 0.2724 - accuracy: 0.9140 - val_loss: 0.4173 - val_accuracy: 0.8783 - lr: 0.0010\n",
            "Epoch 10/50\n",
            "50/50 [==============================] - ETA: 0s - loss: 0.2515 - accuracy: 0.9181\n",
            "Epoch 10: val_accuracy did not improve from 0.92464\n",
            "50/50 [==============================] - 136s 3s/step - loss: 0.2515 - accuracy: 0.9181 - val_loss: 0.3314 - val_accuracy: 0.9043 - lr: 0.0010\n",
            "Epoch 11/50\n",
            "50/50 [==============================] - ETA: 0s - loss: 0.2769 - accuracy: 0.9106\n",
            "Epoch 11: val_accuracy did not improve from 0.92464\n",
            "50/50 [==============================] - 132s 3s/step - loss: 0.2769 - accuracy: 0.9106 - val_loss: 0.2863 - val_accuracy: 0.9159 - lr: 0.0010\n",
            "Epoch 12/50\n",
            "50/50 [==============================] - ETA: 0s - loss: 0.1934 - accuracy: 0.9399\n",
            "Epoch 12: val_accuracy did not improve from 0.92464\n",
            "50/50 [==============================] - 131s 3s/step - loss: 0.1934 - accuracy: 0.9399 - val_loss: 0.3881 - val_accuracy: 0.8899 - lr: 0.0010\n",
            "Epoch 13/50\n",
            "50/50 [==============================] - ETA: 0s - loss: 0.2254 - accuracy: 0.9231\n",
            "Epoch 13: val_accuracy did not improve from 0.92464\n",
            "50/50 [==============================] - 132s 3s/step - loss: 0.2254 - accuracy: 0.9231 - val_loss: 0.3218 - val_accuracy: 0.9101 - lr: 0.0010\n",
            "Epoch 14/50\n",
            "50/50 [==============================] - ETA: 0s - loss: 0.1625 - accuracy: 0.9494\n",
            "Epoch 14: val_accuracy improved from 0.92464 to 0.92754, saving model to /content\n",
            "50/50 [==============================] - 216s 4s/step - loss: 0.1625 - accuracy: 0.9494 - val_loss: 0.2548 - val_accuracy: 0.9275 - lr: 0.0010\n",
            "Epoch 15/50\n",
            "50/50 [==============================] - ETA: 0s - loss: 0.1667 - accuracy: 0.9532"
          ]
        },
        {
          "output_type": "stream",
          "name": "stderr",
          "text": [
            "/usr/local/lib/python3.7/dist-packages/PIL/TiffImagePlugin.py:788: UserWarning: Corrupt EXIF data.  Expecting to read 4 bytes but only got 0. \n",
            "  warnings.warn(str(msg))\n"
          ]
        },
        {
          "output_type": "stream",
          "name": "stdout",
          "text": [
            "\n",
            "Epoch 15: val_accuracy improved from 0.92754 to 0.94203, saving model to /content\n",
            "50/50 [==============================] - 215s 4s/step - loss: 0.1667 - accuracy: 0.9532 - val_loss: 0.2393 - val_accuracy: 0.9420 - lr: 0.0010\n",
            "Epoch 16/50\n",
            "50/50 [==============================] - ETA: 0s - loss: 0.1580 - accuracy: 0.9425"
          ]
        },
        {
          "output_type": "stream",
          "name": "stderr",
          "text": [
            "/usr/local/lib/python3.7/dist-packages/PIL/TiffImagePlugin.py:788: UserWarning: Corrupt EXIF data.  Expecting to read 4 bytes but only got 0. \n",
            "  warnings.warn(str(msg))\n"
          ]
        },
        {
          "output_type": "stream",
          "name": "stdout",
          "text": [
            "\n",
            "Epoch 16: val_accuracy did not improve from 0.94203\n",
            "50/50 [==============================] - 132s 3s/step - loss: 0.1580 - accuracy: 0.9425 - val_loss: 0.3129 - val_accuracy: 0.9101 - lr: 0.0010\n",
            "Epoch 17/50\n",
            "50/50 [==============================] - ETA: 0s - loss: 0.1645 - accuracy: 0.9413\n",
            "Epoch 17: val_accuracy did not improve from 0.94203\n",
            "50/50 [==============================] - 133s 3s/step - loss: 0.1645 - accuracy: 0.9413 - val_loss: 0.2283 - val_accuracy: 0.9217 - lr: 0.0010\n",
            "Epoch 18/50\n",
            "50/50 [==============================] - ETA: 0s - loss: 0.1616 - accuracy: 0.9481\n",
            "Epoch 18: val_accuracy did not improve from 0.94203\n",
            "50/50 [==============================] - 132s 3s/step - loss: 0.1616 - accuracy: 0.9481 - val_loss: 0.2432 - val_accuracy: 0.9159 - lr: 0.0010\n",
            "Epoch 19/50\n",
            "50/50 [==============================] - ETA: 0s - loss: 0.1428 - accuracy: 0.9538\n",
            "Epoch 19: val_accuracy did not improve from 0.94203\n",
            "50/50 [==============================] - 134s 3s/step - loss: 0.1428 - accuracy: 0.9538 - val_loss: 0.2483 - val_accuracy: 0.9217 - lr: 0.0010\n",
            "Epoch 20/50\n",
            "50/50 [==============================] - ETA: 0s - loss: 0.1373 - accuracy: 0.9600\n",
            "Epoch 20: val_accuracy did not improve from 0.94203\n",
            "50/50 [==============================] - 133s 3s/step - loss: 0.1373 - accuracy: 0.9600 - val_loss: 0.2666 - val_accuracy: 0.9188 - lr: 0.0010\n",
            "Epoch 21/50\n",
            "50/50 [==============================] - ETA: 0s - loss: 0.1195 - accuracy: 0.9631\n",
            "Epoch 21: val_accuracy did not improve from 0.94203\n",
            "50/50 [==============================] - 134s 3s/step - loss: 0.1195 - accuracy: 0.9631 - val_loss: 0.2377 - val_accuracy: 0.9246 - lr: 0.0010\n",
            "Epoch 22/50\n",
            "50/50 [==============================] - ETA: 0s - loss: 0.1037 - accuracy: 0.9656\n",
            "Epoch 22: val_accuracy did not improve from 0.94203\n",
            "50/50 [==============================] - 130s 3s/step - loss: 0.1037 - accuracy: 0.9656 - val_loss: 0.2726 - val_accuracy: 0.9188 - lr: 0.0010\n",
            "Epoch 23/50\n",
            "50/50 [==============================] - ETA: 0s - loss: 0.1000 - accuracy: 0.9725\n",
            "Epoch 23: val_accuracy did not improve from 0.94203\n",
            "50/50 [==============================] - 137s 3s/step - loss: 0.1000 - accuracy: 0.9725 - val_loss: 0.2877 - val_accuracy: 0.9275 - lr: 0.0010\n",
            "Epoch 24/50\n",
            "50/50 [==============================] - ETA: 0s - loss: 0.1448 - accuracy: 0.9506\n",
            "Epoch 24: val_accuracy did not improve from 0.94203\n",
            "50/50 [==============================] - 134s 3s/step - loss: 0.1448 - accuracy: 0.9506 - val_loss: 0.2148 - val_accuracy: 0.9420 - lr: 0.0010\n",
            "Epoch 25/50\n",
            "50/50 [==============================] - ETA: 0s - loss: 0.1256 - accuracy: 0.9613\n",
            "Epoch 25: val_accuracy did not improve from 0.94203\n",
            "50/50 [==============================] - 134s 3s/step - loss: 0.1256 - accuracy: 0.9613 - val_loss: 0.2438 - val_accuracy: 0.9159 - lr: 0.0010\n",
            "Epoch 26/50\n",
            "50/50 [==============================] - ETA: 0s - loss: 0.1399 - accuracy: 0.9513\n",
            "Epoch 26: val_accuracy did not improve from 0.94203\n",
            "50/50 [==============================] - 134s 3s/step - loss: 0.1399 - accuracy: 0.9513 - val_loss: 0.2105 - val_accuracy: 0.9333 - lr: 0.0010\n",
            "Epoch 27/50\n",
            "50/50 [==============================] - ETA: 0s - loss: 0.1191 - accuracy: 0.9675\n",
            "Epoch 27: val_accuracy did not improve from 0.94203\n",
            "50/50 [==============================] - 134s 3s/step - loss: 0.1191 - accuracy: 0.9675 - val_loss: 0.2369 - val_accuracy: 0.9333 - lr: 0.0010\n",
            "Epoch 28/50\n",
            "50/50 [==============================] - ETA: 0s - loss: 0.1017 - accuracy: 0.9669\n",
            "Epoch 28: val_accuracy did not improve from 0.94203\n",
            "50/50 [==============================] - 136s 3s/step - loss: 0.1017 - accuracy: 0.9669 - val_loss: 0.2305 - val_accuracy: 0.9304 - lr: 0.0010\n",
            "Epoch 28: early stopping\n"
          ]
        },
        {
          "output_type": "execute_result",
          "data": {
            "text/plain": [
              "<keras.callbacks.History at 0x7f2e503cc650>"
            ]
          },
          "metadata": {},
          "execution_count": 17
        }
      ]
    },
    {
      "cell_type": "code",
      "source": [
        "model_main.save(\"/content/drive/MyDrive/BTP/Denomination_Recognition-Models/EfficientNetV2S.h5\")"
      ],
      "metadata": {
        "id": "m8xvToLMSsJD"
      },
      "execution_count": null,
      "outputs": []
    },
    {
      "cell_type": "code",
      "source": [
        "plt.figure(figsize=(10,5))\n",
        "plt.plot(model_main.history.history['loss'],color='b',label='Training loss')\n",
        "plt.plot(model_main.history.history['val_loss'],color='r',label='Validation loss')\n",
        "plt.xlabel(\"epochs\")\n",
        "plt.ylabel(\"loss\")\n",
        "plt.legend(['train', 'validation'], loc='upper right')\n",
        "plt.title(\"model loss\")"
      ],
      "metadata": {
        "colab": {
          "base_uri": "https://localhost:8080/",
          "height": 367
        },
        "id": "glh4jtypSyjI",
        "outputId": "60cbe49e-88c9-4a95-da33-485dece5ccc5"
      },
      "execution_count": null,
      "outputs": [
        {
          "output_type": "execute_result",
          "data": {
            "text/plain": [
              "Text(0.5, 1.0, 'model loss')"
            ]
          },
          "metadata": {},
          "execution_count": 19
        },
        {
          "output_type": "display_data",
          "data": {
            "text/plain": [
              "<Figure size 720x360 with 1 Axes>"
            ],
            "image/png": "[encoded data removed]"
          },
          "metadata": {
            "needs_background": "light"
          }
        }
      ]
    },
    {
      "cell_type": "code",
      "source": [
        "plt.figure(figsize=(10,5))\n",
        "plt.plot(model_main.history.history['accuracy'],color='b',label='Training accuracy')\n",
        "plt.plot(model_main.history.history['val_accuracy'],color='r',label='Validation accsuracy')\n",
        "plt.xlabel(\"epochs\")\n",
        "plt.ylabel(\"accuracy\")\n",
        "plt.legend(['train', 'validation'], loc='lower right')\n",
        "plt.title(\"model accuracy\")"
      ],
      "metadata": {
        "colab": {
          "base_uri": "https://localhost:8080/",
          "height": 367
        },
        "id": "GGsCs1IhS1KO",
        "outputId": "31b1e7d1-0af4-483c-e408-ecfaea362457"
      },
      "execution_count": null,
      "outputs": [
        {
          "output_type": "execute_result",
          "data": {
            "text/plain": [
              "Text(0.5, 1.0, 'model accuracy')"
            ]
          },
          "metadata": {},
          "execution_count": 20
        },
        {
          "output_type": "display_data",
          "data": {
            "text/plain": [
              "<Figure size 720x360 with 1 Axes>"
            ],
            "image/png": "[encoded data removed]"
          },
          "metadata": {
            "needs_background": "light"
          }
        }
      ]
    },
    {
      "cell_type": "code",
      "source": [
        "#EfficientNet\n",
        "loss, accuracy = model_main.evaluate(train_data, verbose=1)\n",
        "print(\"Trainmodel_main: accuracy = %f  ;  loss = %f\" % (accuracy, loss))\n",
        "\n",
        "loss, accuracy = model_main.evaluate(val_data, verbose=1)\n",
        "print(\"Validation: accuracy = %f  ;  loss = %f\" % (accuracy, loss))\n",
        "\n",
        "loss, accuracy = model_main.evaluate(test_data, verbose=1)\n",
        "print(\"Test: accuracy = %f  ;  loss = %f\" % (accuracy, loss))"
      ],
      "metadata": {
        "colab": {
          "base_uri": "https://localhost:8080/"
        },
        "id": "7IYcwjx3S3-t",
        "outputId": "ca8ebc49-6ee1-4779-a887-f4559f1907ae"
      },
      "execution_count": null,
      "outputs": [
        {
          "output_type": "stream",
          "name": "stdout",
          "text": [
            "112/112 [==============================] - 250s 2s/step - loss: 0.0844 - accuracy: 0.9722\n",
            "Trainmodel_main: accuracy = 0.972238  ;  loss = 0.084389\n",
            " 7/11 [==================>...........] - ETA: 7s - loss: 0.2171 - accuracy: 0.9375"
          ]
        },
        {
          "output_type": "stream",
          "name": "stderr",
          "text": [
            "/usr/local/lib/python3.7/dist-packages/PIL/TiffImagePlugin.py:788: UserWarning: Corrupt EXIF data.  Expecting to read 4 bytes but only got 0. \n",
            "  warnings.warn(str(msg))\n"
          ]
        },
        {
          "output_type": "stream",
          "name": "stdout",
          "text": [
            "11/11 [==============================] - 21s 2s/step - loss: 0.2305 - accuracy: 0.9304\n",
            "Validation: accuracy = 0.930435  ;  loss = 0.230536\n",
            "3/3 [==============================] - 7s 2s/step - loss: 0.0482 - accuracy: 0.9890\n",
            "Test: accuracy = 0.989011  ;  loss = 0.048200\n"
          ]
        }
      ]
    },
    {
      "cell_type": "markdown",
      "source": [
        "2. VGG-16"
      ],
      "metadata": {
        "id": "wpT1qj2nXQkz"
      }
    },
    {
      "cell_type": "code",
      "source": [
        "base_model_tf=VGG16(include_top=False,weights='imagenet',input_shape=(224,224,3),classes=8)"
      ],
      "metadata": {
        "colab": {
          "base_uri": "https://localhost:8080/"
        },
        "id": "TSbhG7HfXQCr",
        "outputId": "16139a94-ec93-4f27-c1f4-3bc710ae9353"
      },
      "execution_count": null,
      "outputs": [
        {
          "output_type": "stream",
          "name": "stdout",
          "text": [
            "Downloading data from https://storage.googleapis.com/tensorflow/keras-applications/vgg16/vgg16_weights_tf_dim_ordering_tf_kernels_notop.h5\n",
            "58892288/58889256 [==============================] - 2s 0us/step\n",
            "58900480/58889256 [==============================] - 2s 0us/step\n"
          ]
        }
      ]
    },
    {
      "cell_type": "code",
      "source": [
        "base_model_tf.trainable=False\n",
        "\n",
        "pt=Input(shape=(224,224,3))\n",
        "func=tensorflow.cast(pt,tensorflow.float32)\n",
        "x=preprocess_input(func)\n",
        "model_effnet = base_model_tf(x,training=False)\n",
        "model_effnet = GlobalAveragePooling2D()(model_effnet)\n",
        "model_effnet = Dense(128,activation='relu')(model_effnet)\n",
        "model_effnet = Dense(64,activation='relu')(model_effnet)\n",
        "model_effnet = Dense(8,activation='softmax')(model_effnet)\n",
        "\n",
        "\n",
        "model_main = Model(inputs=pt,outputs=model_effnet)\n",
        "model_main.summary()"
      ],
      "metadata": {
        "colab": {
          "base_uri": "https://localhost:8080/"
        },
        "id": "zsjq9k1MXjqZ",
        "outputId": "0fb41528-6a78-4833-eb2b-e0237d3bfb15"
      },
      "execution_count": null,
      "outputs": [
        {
          "output_type": "stream",
          "name": "stdout",
          "text": [
            "Model: \"model_1\"\n",
            "_________________________________________________________________\n",
            " Layer (type)                Output Shape              Param #   \n",
            "=================================================================\n",
            " input_4 (InputLayer)        [(None, 224, 224, 3)]     0         \n",
            "                                                                 \n",
            " tf.cast_1 (TFOpLambda)      (None, 224, 224, 3)       0         \n",
            "                                                                 \n",
            " vgg16 (Functional)          (None, 7, 7, 512)         14714688  \n",
            "                                                                 \n",
            " global_average_pooling2d_1   (None, 512)              0         \n",
            " (GlobalAveragePooling2D)                                        \n",
            "                                                                 \n",
            " dense_3 (Dense)             (None, 128)               65664     \n",
            "                                                                 \n",
            " dense_4 (Dense)             (None, 64)                8256      \n",
            "                                                                 \n",
            " dense_5 (Dense)             (None, 8)                 520       \n",
            "                                                                 \n",
            "=================================================================\n",
            "Total params: 14,789,128\n",
            "Trainable params: 74,440\n",
            "Non-trainable params: 14,714,688\n",
            "_________________________________________________________________\n"
          ]
        }
      ]
    },
    {
      "cell_type": "code",
      "source": [
        "es=EarlyStopping(monitor='accuracy',verbose=1,patience=5,mode='auto')\n",
        "mc=ModelCheckpoint(filepath='/content',monitor='val_accuracy',verbose=1,save_best_only=True)\n",
        "lr=ReduceLROnPlateau(monitor='val_accuracy',verbose=1,patience=3,min_lr=0.001)"
      ],
      "metadata": {
        "id": "FX8tWmuSXn6N"
      },
      "execution_count": null,
      "outputs": []
    },
    {
      "cell_type": "code",
      "source": [
        "model_main.compile(optimizer='Adam',loss='categorical_crossentropy',metrics=['accuracy'])"
      ],
      "metadata": {
        "id": "-7pcpwEXXq8C"
      },
      "execution_count": null,
      "outputs": []
    },
    {
      "cell_type": "code",
      "source": [
        "model_main.fit(train_data,validation_data=val_data,epochs=50, steps_per_epoch=50,verbose=1,callbacks=[es, lr, mc])"
      ],
      "metadata": {
        "colab": {
          "base_uri": "https://localhost:8080/"
        },
        "id": "xaN3M6MvXs9c",
        "outputId": "f050cc05-8eaf-4cb7-c0e7-e96404988fdf"
      },
      "execution_count": null,
      "outputs": [
        {
          "output_type": "stream",
          "name": "stdout",
          "text": [
            "Epoch 1/50\n",
            "50/50 [==============================] - ETA: 0s - loss: 2.4186 - accuracy: 0.2541"
          ]
        },
        {
          "output_type": "stream",
          "name": "stderr",
          "text": [
            "/usr/local/lib/python3.7/dist-packages/PIL/TiffImagePlugin.py:788: UserWarning: Corrupt EXIF data.  Expecting to read 4 bytes but only got 0. \n",
            "  warnings.warn(str(msg))\n"
          ]
        },
        {
          "output_type": "stream",
          "name": "stdout",
          "text": [
            "\n",
            "Epoch 1: val_accuracy improved from -inf to 0.41159, saving model to /content\n",
            "50/50 [==============================] - 140s 3s/step - loss: 2.4186 - accuracy: 0.2541 - val_loss: 1.6193 - val_accuracy: 0.4116 - lr: 0.0010\n",
            "Epoch 2/50\n",
            "50/50 [==============================] - ETA: 0s - loss: 1.4431 - accuracy: 0.4861"
          ]
        },
        {
          "output_type": "stream",
          "name": "stderr",
          "text": [
            "/usr/local/lib/python3.7/dist-packages/PIL/TiffImagePlugin.py:788: UserWarning: Corrupt EXIF data.  Expecting to read 4 bytes but only got 0. \n",
            "  warnings.warn(str(msg))\n"
          ]
        },
        {
          "output_type": "stream",
          "name": "stdout",
          "text": [
            "\n",
            "Epoch 2: val_accuracy improved from 0.41159 to 0.54493, saving model to /content\n",
            "50/50 [==============================] - 135s 3s/step - loss: 1.4431 - accuracy: 0.4861 - val_loss: 1.2752 - val_accuracy: 0.5449 - lr: 0.0010\n",
            "Epoch 3/50\n",
            "50/50 [==============================] - ETA: 0s - loss: 1.1207 - accuracy: 0.5919"
          ]
        },
        {
          "output_type": "stream",
          "name": "stderr",
          "text": [
            "/usr/local/lib/python3.7/dist-packages/PIL/TiffImagePlugin.py:788: UserWarning: Corrupt EXIF data.  Expecting to read 4 bytes but only got 0. \n",
            "  warnings.warn(str(msg))\n"
          ]
        },
        {
          "output_type": "stream",
          "name": "stdout",
          "text": [
            "\n",
            "Epoch 3: val_accuracy improved from 0.54493 to 0.63478, saving model to /content\n",
            "50/50 [==============================] - 137s 3s/step - loss: 1.1207 - accuracy: 0.5919 - val_loss: 1.1075 - val_accuracy: 0.6348 - lr: 0.0010\n",
            "Epoch 4/50\n",
            "50/50 [==============================] - ETA: 0s - loss: 1.0391 - accuracy: 0.6250"
          ]
        },
        {
          "output_type": "stream",
          "name": "stderr",
          "text": [
            "/usr/local/lib/python3.7/dist-packages/PIL/TiffImagePlugin.py:788: UserWarning: Corrupt EXIF data.  Expecting to read 4 bytes but only got 0. \n",
            "  warnings.warn(str(msg))\n"
          ]
        },
        {
          "output_type": "stream",
          "name": "stdout",
          "text": [
            "\n",
            "Epoch 4: val_accuracy improved from 0.63478 to 0.66667, saving model to /content\n",
            "50/50 [==============================] - 138s 3s/step - loss: 1.0391 - accuracy: 0.6250 - val_loss: 0.9264 - val_accuracy: 0.6667 - lr: 0.0010\n",
            "Epoch 5/50\n",
            "50/50 [==============================] - ETA: 0s - loss: 0.8192 - accuracy: 0.7212"
          ]
        },
        {
          "output_type": "stream",
          "name": "stderr",
          "text": [
            "/usr/local/lib/python3.7/dist-packages/PIL/TiffImagePlugin.py:788: UserWarning: Corrupt EXIF data.  Expecting to read 4 bytes but only got 0. \n",
            "  warnings.warn(str(msg))\n"
          ]
        },
        {
          "output_type": "stream",
          "name": "stdout",
          "text": [
            "\n",
            "Epoch 5: val_accuracy improved from 0.66667 to 0.71594, saving model to /content\n",
            "50/50 [==============================] - 135s 3s/step - loss: 0.8192 - accuracy: 0.7212 - val_loss: 0.8367 - val_accuracy: 0.7159 - lr: 0.0010\n",
            "Epoch 6/50\n",
            "50/50 [==============================] - ETA: 0s - loss: 0.7878 - accuracy: 0.7344"
          ]
        },
        {
          "output_type": "stream",
          "name": "stderr",
          "text": [
            "/usr/local/lib/python3.7/dist-packages/PIL/TiffImagePlugin.py:788: UserWarning: Corrupt EXIF data.  Expecting to read 4 bytes but only got 0. \n",
            "  warnings.warn(str(msg))\n"
          ]
        },
        {
          "output_type": "stream",
          "name": "stdout",
          "text": [
            "\n",
            "Epoch 6: val_accuracy improved from 0.71594 to 0.72754, saving model to /content\n",
            "50/50 [==============================] - 135s 3s/step - loss: 0.7878 - accuracy: 0.7344 - val_loss: 0.8261 - val_accuracy: 0.7275 - lr: 0.0010\n",
            "Epoch 7/50\n",
            "50/50 [==============================] - ETA: 0s - loss: 0.7454 - accuracy: 0.7350"
          ]
        },
        {
          "output_type": "stream",
          "name": "stderr",
          "text": [
            "/usr/local/lib/python3.7/dist-packages/PIL/TiffImagePlugin.py:788: UserWarning: Corrupt EXIF data.  Expecting to read 4 bytes but only got 0. \n",
            "  warnings.warn(str(msg))\n"
          ]
        },
        {
          "output_type": "stream",
          "name": "stdout",
          "text": [
            "\n",
            "Epoch 7: val_accuracy improved from 0.72754 to 0.74203, saving model to /content\n",
            "50/50 [==============================] - 135s 3s/step - loss: 0.7454 - accuracy: 0.7350 - val_loss: 0.7912 - val_accuracy: 0.7420 - lr: 0.0010\n",
            "Epoch 8/50\n",
            "50/50 [==============================] - ETA: 0s - loss: 0.6807 - accuracy: 0.7613"
          ]
        },
        {
          "output_type": "stream",
          "name": "stderr",
          "text": [
            "/usr/local/lib/python3.7/dist-packages/PIL/TiffImagePlugin.py:788: UserWarning: Corrupt EXIF data.  Expecting to read 4 bytes but only got 0. \n",
            "  warnings.warn(str(msg))\n"
          ]
        },
        {
          "output_type": "stream",
          "name": "stdout",
          "text": [
            "\n",
            "Epoch 8: val_accuracy improved from 0.74203 to 0.74783, saving model to /content\n",
            "50/50 [==============================] - 138s 3s/step - loss: 0.6807 - accuracy: 0.7613 - val_loss: 0.7432 - val_accuracy: 0.7478 - lr: 0.0010\n",
            "Epoch 9/50\n",
            "50/50 [==============================] - ETA: 0s - loss: 0.6411 - accuracy: 0.7813"
          ]
        },
        {
          "output_type": "stream",
          "name": "stderr",
          "text": [
            "/usr/local/lib/python3.7/dist-packages/PIL/TiffImagePlugin.py:788: UserWarning: Corrupt EXIF data.  Expecting to read 4 bytes but only got 0. \n",
            "  warnings.warn(str(msg))\n"
          ]
        },
        {
          "output_type": "stream",
          "name": "stdout",
          "text": [
            "\n",
            "Epoch 9: val_accuracy improved from 0.74783 to 0.77971, saving model to /content\n",
            "50/50 [==============================] - 133s 3s/step - loss: 0.6411 - accuracy: 0.7813 - val_loss: 0.6911 - val_accuracy: 0.7797 - lr: 0.0010\n",
            "Epoch 10/50\n",
            "50/50 [==============================] - ETA: 0s - loss: 0.5659 - accuracy: 0.8094"
          ]
        },
        {
          "output_type": "stream",
          "name": "stderr",
          "text": [
            "/usr/local/lib/python3.7/dist-packages/PIL/TiffImagePlugin.py:788: UserWarning: Corrupt EXIF data.  Expecting to read 4 bytes but only got 0. \n",
            "  warnings.warn(str(msg))\n"
          ]
        },
        {
          "output_type": "stream",
          "name": "stdout",
          "text": [
            "\n",
            "Epoch 10: val_accuracy did not improve from 0.77971\n",
            "50/50 [==============================] - 134s 3s/step - loss: 0.5659 - accuracy: 0.8094 - val_loss: 0.8238 - val_accuracy: 0.7478 - lr: 0.0010\n",
            "Epoch 11/50\n",
            "50/50 [==============================] - ETA: 0s - loss: 0.5328 - accuracy: 0.8112\n",
            "Epoch 11: val_accuracy improved from 0.77971 to 0.80000, saving model to /content\n",
            "50/50 [==============================] - 135s 3s/step - loss: 0.5328 - accuracy: 0.8112 - val_loss: 0.6316 - val_accuracy: 0.8000 - lr: 0.0010\n",
            "Epoch 12/50\n",
            "50/50 [==============================] - ETA: 0s - loss: 0.5326 - accuracy: 0.8188"
          ]
        },
        {
          "output_type": "stream",
          "name": "stderr",
          "text": [
            "/usr/local/lib/python3.7/dist-packages/PIL/TiffImagePlugin.py:788: UserWarning: Corrupt EXIF data.  Expecting to read 4 bytes but only got 0. \n",
            "  warnings.warn(str(msg))\n"
          ]
        },
        {
          "output_type": "stream",
          "name": "stdout",
          "text": [
            "\n",
            "Epoch 12: val_accuracy did not improve from 0.80000\n",
            "50/50 [==============================] - 132s 3s/step - loss: 0.5326 - accuracy: 0.8188 - val_loss: 0.6675 - val_accuracy: 0.7710 - lr: 0.0010\n",
            "Epoch 13/50\n",
            "50/50 [==============================] - ETA: 0s - loss: 0.4894 - accuracy: 0.8425\n",
            "Epoch 13: val_accuracy improved from 0.80000 to 0.83478, saving model to /content\n",
            "50/50 [==============================] - 141s 3s/step - loss: 0.4894 - accuracy: 0.8425 - val_loss: 0.5932 - val_accuracy: 0.8348 - lr: 0.0010\n",
            "Epoch 14/50\n",
            "50/50 [==============================] - ETA: 0s - loss: 0.4724 - accuracy: 0.8456"
          ]
        },
        {
          "output_type": "stream",
          "name": "stderr",
          "text": [
            "/usr/local/lib/python3.7/dist-packages/PIL/TiffImagePlugin.py:788: UserWarning: Corrupt EXIF data.  Expecting to read 4 bytes but only got 0. \n",
            "  warnings.warn(str(msg))\n"
          ]
        },
        {
          "output_type": "stream",
          "name": "stdout",
          "text": [
            "\n",
            "Epoch 14: val_accuracy did not improve from 0.83478\n",
            "50/50 [==============================] - 133s 3s/step - loss: 0.4724 - accuracy: 0.8456 - val_loss: 0.6636 - val_accuracy: 0.7826 - lr: 0.0010\n",
            "Epoch 15/50\n",
            "50/50 [==============================] - ETA: 0s - loss: 0.4646 - accuracy: 0.8506\n",
            "Epoch 15: val_accuracy did not improve from 0.83478\n",
            "50/50 [==============================] - 136s 3s/step - loss: 0.4646 - accuracy: 0.8506 - val_loss: 0.6100 - val_accuracy: 0.8203 - lr: 0.0010\n",
            "Epoch 16/50\n",
            "50/50 [==============================] - ETA: 0s - loss: 0.4445 - accuracy: 0.8565\n",
            "Epoch 16: val_accuracy did not improve from 0.83478\n",
            "50/50 [==============================] - 133s 3s/step - loss: 0.4445 - accuracy: 0.8565 - val_loss: 0.6081 - val_accuracy: 0.8000 - lr: 0.0010\n",
            "Epoch 17/50\n",
            "50/50 [==============================] - ETA: 0s - loss: 0.4082 - accuracy: 0.8650\n",
            "Epoch 17: val_accuracy did not improve from 0.83478\n",
            "50/50 [==============================] - 135s 3s/step - loss: 0.4082 - accuracy: 0.8650 - val_loss: 0.6326 - val_accuracy: 0.8203 - lr: 0.0010\n",
            "Epoch 18/50\n",
            "50/50 [==============================] - ETA: 0s - loss: 0.3849 - accuracy: 0.8575\n",
            "Epoch 18: val_accuracy did not improve from 0.83478\n",
            "50/50 [==============================] - 133s 3s/step - loss: 0.3849 - accuracy: 0.8575 - val_loss: 0.6008 - val_accuracy: 0.8348 - lr: 0.0010\n",
            "Epoch 19/50\n",
            "50/50 [==============================] - ETA: 0s - loss: 0.3892 - accuracy: 0.8780\n",
            "Epoch 19: val_accuracy did not improve from 0.83478\n",
            "50/50 [==============================] - 129s 3s/step - loss: 0.3892 - accuracy: 0.8780 - val_loss: 0.6353 - val_accuracy: 0.8203 - lr: 0.0010\n",
            "Epoch 20/50\n",
            "50/50 [==============================] - ETA: 0s - loss: 0.4126 - accuracy: 0.8625\n",
            "Epoch 20: val_accuracy did not improve from 0.83478\n",
            "50/50 [==============================] - 135s 3s/step - loss: 0.4126 - accuracy: 0.8625 - val_loss: 0.7062 - val_accuracy: 0.8116 - lr: 0.0010\n",
            "Epoch 21/50\n",
            "50/50 [==============================] - ETA: 0s - loss: 0.3856 - accuracy: 0.8675\n",
            "Epoch 21: val_accuracy improved from 0.83478 to 0.83768, saving model to /content\n",
            "50/50 [==============================] - 135s 3s/step - loss: 0.3856 - accuracy: 0.8675 - val_loss: 0.4938 - val_accuracy: 0.8377 - lr: 0.0010\n",
            "Epoch 22/50\n",
            "50/50 [==============================] - ETA: 0s - loss: 0.3412 - accuracy: 0.8856"
          ]
        },
        {
          "output_type": "stream",
          "name": "stderr",
          "text": [
            "/usr/local/lib/python3.7/dist-packages/PIL/TiffImagePlugin.py:788: UserWarning: Corrupt EXIF data.  Expecting to read 4 bytes but only got 0. \n",
            "  warnings.warn(str(msg))\n"
          ]
        },
        {
          "output_type": "stream",
          "name": "stdout",
          "text": [
            "\n",
            "Epoch 22: val_accuracy did not improve from 0.83768\n",
            "50/50 [==============================] - 131s 3s/step - loss: 0.3412 - accuracy: 0.8856 - val_loss: 0.5976 - val_accuracy: 0.8203 - lr: 0.0010\n",
            "Epoch 23/50\n",
            "50/50 [==============================] - ETA: 0s - loss: 0.3523 - accuracy: 0.8813\n",
            "Epoch 23: val_accuracy improved from 0.83768 to 0.84058, saving model to /content\n",
            "50/50 [==============================] - 141s 3s/step - loss: 0.3523 - accuracy: 0.8813 - val_loss: 0.5440 - val_accuracy: 0.8406 - lr: 0.0010\n",
            "Epoch 24/50\n",
            "50/50 [==============================] - ETA: 0s - loss: 0.3150 - accuracy: 0.9056"
          ]
        },
        {
          "output_type": "stream",
          "name": "stderr",
          "text": [
            "/usr/local/lib/python3.7/dist-packages/PIL/TiffImagePlugin.py:788: UserWarning: Corrupt EXIF data.  Expecting to read 4 bytes but only got 0. \n",
            "  warnings.warn(str(msg))\n"
          ]
        },
        {
          "output_type": "stream",
          "name": "stdout",
          "text": [
            "\n",
            "Epoch 24: val_accuracy improved from 0.84058 to 0.86087, saving model to /content\n",
            "50/50 [==============================] - 149s 3s/step - loss: 0.3150 - accuracy: 0.9056 - val_loss: 0.5107 - val_accuracy: 0.8609 - lr: 0.0010\n",
            "Epoch 25/50\n",
            "50/50 [==============================] - ETA: 0s - loss: 0.2838 - accuracy: 0.9050"
          ]
        },
        {
          "output_type": "stream",
          "name": "stderr",
          "text": [
            "/usr/local/lib/python3.7/dist-packages/PIL/TiffImagePlugin.py:788: UserWarning: Corrupt EXIF data.  Expecting to read 4 bytes but only got 0. \n",
            "  warnings.warn(str(msg))\n"
          ]
        },
        {
          "output_type": "stream",
          "name": "stdout",
          "text": [
            "\n",
            "Epoch 25: val_accuracy did not improve from 0.86087\n",
            "50/50 [==============================] - 141s 3s/step - loss: 0.2838 - accuracy: 0.9050 - val_loss: 0.6122 - val_accuracy: 0.8145 - lr: 0.0010\n",
            "Epoch 26/50\n",
            "50/50 [==============================] - ETA: 0s - loss: 0.3349 - accuracy: 0.8805\n",
            "Epoch 26: val_accuracy improved from 0.86087 to 0.87536, saving model to /content\n",
            "50/50 [==============================] - 139s 3s/step - loss: 0.3349 - accuracy: 0.8805 - val_loss: 0.4898 - val_accuracy: 0.8754 - lr: 0.0010\n",
            "Epoch 27/50\n",
            "50/50 [==============================] - ETA: 0s - loss: 0.2939 - accuracy: 0.9020"
          ]
        },
        {
          "output_type": "stream",
          "name": "stderr",
          "text": [
            "/usr/local/lib/python3.7/dist-packages/PIL/TiffImagePlugin.py:788: UserWarning: Corrupt EXIF data.  Expecting to read 4 bytes but only got 0. \n",
            "  warnings.warn(str(msg))\n"
          ]
        },
        {
          "output_type": "stream",
          "name": "stdout",
          "text": [
            "\n",
            "Epoch 27: val_accuracy did not improve from 0.87536\n",
            "50/50 [==============================] - 134s 3s/step - loss: 0.2939 - accuracy: 0.9020 - val_loss: 0.5880 - val_accuracy: 0.8348 - lr: 0.0010\n",
            "Epoch 28/50\n",
            "50/50 [==============================] - ETA: 0s - loss: 0.2503 - accuracy: 0.9197\n",
            "Epoch 28: val_accuracy did not improve from 0.87536\n",
            "50/50 [==============================] - 143s 3s/step - loss: 0.2503 - accuracy: 0.9197 - val_loss: 0.5854 - val_accuracy: 0.8493 - lr: 0.0010\n",
            "Epoch 29/50\n",
            "50/50 [==============================] - ETA: 0s - loss: 0.3207 - accuracy: 0.8862\n",
            "Epoch 29: val_accuracy improved from 0.87536 to 0.87826, saving model to /content\n",
            "50/50 [==============================] - 133s 3s/step - loss: 0.3207 - accuracy: 0.8862 - val_loss: 0.4773 - val_accuracy: 0.8783 - lr: 0.0010\n",
            "Epoch 30/50\n",
            "50/50 [==============================] - ETA: 0s - loss: 0.2831 - accuracy: 0.8994"
          ]
        },
        {
          "output_type": "stream",
          "name": "stderr",
          "text": [
            "/usr/local/lib/python3.7/dist-packages/PIL/TiffImagePlugin.py:788: UserWarning: Corrupt EXIF data.  Expecting to read 4 bytes but only got 0. \n",
            "  warnings.warn(str(msg))\n"
          ]
        },
        {
          "output_type": "stream",
          "name": "stdout",
          "text": [
            "\n",
            "Epoch 30: val_accuracy did not improve from 0.87826\n",
            "50/50 [==============================] - 133s 3s/step - loss: 0.2831 - accuracy: 0.8994 - val_loss: 0.5485 - val_accuracy: 0.8638 - lr: 0.0010\n",
            "Epoch 31/50\n",
            "50/50 [==============================] - ETA: 0s - loss: 0.2722 - accuracy: 0.9062\n",
            "Epoch 31: val_accuracy did not improve from 0.87826\n",
            "50/50 [==============================] - 129s 3s/step - loss: 0.2722 - accuracy: 0.9062 - val_loss: 0.5649 - val_accuracy: 0.8435 - lr: 0.0010\n",
            "Epoch 32/50\n",
            "50/50 [==============================] - ETA: 0s - loss: 0.2966 - accuracy: 0.8970\n",
            "Epoch 32: val_accuracy did not improve from 0.87826\n",
            "50/50 [==============================] - 132s 3s/step - loss: 0.2966 - accuracy: 0.8970 - val_loss: 0.4978 - val_accuracy: 0.8754 - lr: 0.0010\n",
            "Epoch 33/50\n",
            "50/50 [==============================] - ETA: 0s - loss: 0.2686 - accuracy: 0.9077\n",
            "Epoch 33: val_accuracy did not improve from 0.87826\n",
            "50/50 [==============================] - 130s 3s/step - loss: 0.2686 - accuracy: 0.9077 - val_loss: 0.5154 - val_accuracy: 0.8609 - lr: 0.0010\n",
            "Epoch 33: early stopping\n"
          ]
        },
        {
          "output_type": "execute_result",
          "data": {
            "text/plain": [
              "<keras.callbacks.History at 0x7f2c290d39d0>"
            ]
          },
          "metadata": {},
          "execution_count": 28
        }
      ]
    },
    {
      "cell_type": "code",
      "source": [
        "model_main.save(\"/content/drive/MyDrive/BTP/Denomination_Recognition-Models/VGG-16.h5\")"
      ],
      "metadata": {
        "id": "RVFKPkZLkGua"
      },
      "execution_count": null,
      "outputs": []
    },
    {
      "cell_type": "code",
      "source": [
        "plt.figure(figsize=(10,5))\n",
        "plt.plot(model_main.history.history['loss'],color='b',label='Training loss')\n",
        "plt.plot(model_main.history.history['val_loss'],color='r',label='Validation loss')\n",
        "plt.xlabel(\"epochs\")\n",
        "plt.ylabel(\"loss\")\n",
        "plt.legend(['train', 'validation'], loc='upper right')\n",
        "plt.title(\"model loss\")"
      ],
      "metadata": {
        "colab": {
          "base_uri": "https://localhost:8080/",
          "height": 367
        },
        "id": "oWL4NoqKkQMY",
        "outputId": "e131f9c1-d9b9-487e-8d13-8c29f012f2c2"
      },
      "execution_count": null,
      "outputs": [
        {
          "output_type": "execute_result",
          "data": {
            "text/plain": [
              "Text(0.5, 1.0, 'model loss')"
            ]
          },
          "metadata": {},
          "execution_count": 30
        },
        {
          "output_type": "display_data",
          "data": {
            "text/plain": [
              "<Figure size 720x360 with 1 Axes>"
            ],
            "image/png": "[encoded data removed]"
          },
          "metadata": {
            "needs_background": "light"
          }
        }
      ]
    },
    {
      "cell_type": "code",
      "source": [
        "plt.figure(figsize=(10,5))\n",
        "plt.plot(model_main.history.history['accuracy'],color='b',label='Training accuracy')\n",
        "plt.plot(model_main.history.history['val_accuracy'],color='r',label='Validation accsuracy')\n",
        "plt.xlabel(\"epochs\")\n",
        "plt.ylabel(\"accuracy\")\n",
        "plt.legend(['train', 'validation'], loc='lower right')\n",
        "plt.title(\"model accuracy\")"
      ],
      "metadata": {
        "colab": {
          "base_uri": "https://localhost:8080/",
          "height": 367
        },
        "id": "9CH86VtpkS98",
        "outputId": "13d8d266-1d40-42e8-f38d-e868b31bcec8"
      },
      "execution_count": null,
      "outputs": [
        {
          "output_type": "execute_result",
          "data": {
            "text/plain": [
              "Text(0.5, 1.0, 'model accuracy')"
            ]
          },
          "metadata": {},
          "execution_count": 31
        },
        {
          "output_type": "display_data",
          "data": {
            "text/plain": [
              "<Figure size 720x360 with 1 Axes>"
            ],
            "image/png": "[encoded data removed]"
          },
          "metadata": {
            "needs_background": "light"
          }
        }
      ]
    },
    {
      "cell_type": "code",
      "source": [
        "#VGG16\n",
        "loss, accuracy = model_main.evaluate(train_data, verbose=1)\n",
        "print(\"Trainmodel_main: accuracy = %f  ;  loss = %f\" % (accuracy, loss))\n",
        "\n",
        "loss, accuracy = model_main.evaluate(val_data, verbose=1)\n",
        "print(\"Validation: accuracy = %f  ;  loss = %f\" % (accuracy, loss))\n",
        "\n",
        "loss, accuracy = model_main.evaluate(test_data, verbose=1)\n",
        "print(\"Test: accuracy = %f  ;  loss = %f\" % (accuracy, loss))"
      ],
      "metadata": {
        "colab": {
          "base_uri": "https://localhost:8080/"
        },
        "id": "lXJvY9MZkW2t",
        "outputId": "bf5ae8fc-4ba3-4361-d08f-ed7603f71e9c"
      },
      "execution_count": null,
      "outputs": [
        {
          "output_type": "stream",
          "name": "stdout",
          "text": [
            "112/112 [==============================] - 251s 2s/step - loss: 0.2291 - accuracy: 0.9206\n",
            "Trainmodel_main: accuracy = 0.920639  ;  loss = 0.229137\n",
            " 5/11 [============>.................] - ETA: 10s - loss: 0.5713 - accuracy: 0.8875"
          ]
        },
        {
          "output_type": "stream",
          "name": "stderr",
          "text": [
            "/usr/local/lib/python3.7/dist-packages/PIL/TiffImagePlugin.py:788: UserWarning: Corrupt EXIF data.  Expecting to read 4 bytes but only got 0. \n",
            "  warnings.warn(str(msg))\n"
          ]
        },
        {
          "output_type": "stream",
          "name": "stdout",
          "text": [
            "11/11 [==============================] - 20s 2s/step - loss: 0.5154 - accuracy: 0.8609\n",
            "Validation: accuracy = 0.860870  ;  loss = 0.515408\n",
            "3/3 [==============================] - 9s 3s/step - loss: 0.1689 - accuracy: 0.9560\n",
            "Test: accuracy = 0.956044  ;  loss = 0.168935\n"
          ]
        }
      ]
    },
    {
      "cell_type": "markdown",
      "source": [
        "ResNet50"
      ],
      "metadata": {
        "id": "gxg1Xh0AkiBS"
      }
    },
    {
      "cell_type": "code",
      "source": [
        "base_model_tf=ResNet50(include_top=False,weights='imagenet',input_shape=(224,224,3),classes=8)"
      ],
      "metadata": {
        "colab": {
          "base_uri": "https://localhost:8080/"
        },
        "id": "3Fejg8dYkhcz",
        "outputId": "c7ce4b00-1b15-4385-a297-4d99bee029fa"
      },
      "execution_count": null,
      "outputs": [
        {
          "output_type": "stream",
          "name": "stdout",
          "text": [
            "Downloading data from https://storage.googleapis.com/tensorflow/keras-applications/resnet/resnet50_weights_tf_dim_ordering_tf_kernels_notop.h5\n",
            "94773248/94765736 [==============================] - 1s 0us/step\n",
            "94781440/94765736 [==============================] - 1s 0us/step\n"
          ]
        }
      ]
    },
    {
      "cell_type": "code",
      "source": [
        "base_model_tf.trainable=False\n",
        "\n",
        "pt=Input(shape=(224,224,3))\n",
        "func=tensorflow.cast(pt,tensorflow.float32)\n",
        "x=preprocess_input(func)\n",
        "model_effnet = base_model_tf(x,training=False)\n",
        "model_effnet = GlobalAveragePooling2D()(model_effnet)\n",
        "model_effnet = Dense(128,activation='relu')(model_effnet)\n",
        "model_effnet = Dense(64,activation='relu')(model_effnet)\n",
        "model_effnet = Dense(8,activation='softmax')(model_effnet)\n",
        "\n",
        "\n",
        "model_main = Model(inputs=pt,outputs=model_effnet)\n",
        "model_main.summary()"
      ],
      "metadata": {
        "colab": {
          "base_uri": "https://localhost:8080/"
        },
        "id": "FT0L8AoGkmy_",
        "outputId": "524d7849-02b9-4766-8c4f-57f74f9ba84a"
      },
      "execution_count": null,
      "outputs": [
        {
          "output_type": "stream",
          "name": "stdout",
          "text": [
            "Model: \"model\"\n",
            "_________________________________________________________________\n",
            " Layer (type)                Output Shape              Param #   \n",
            "=================================================================\n",
            " input_2 (InputLayer)        [(None, 224, 224, 3)]     0         \n",
            "                                                                 \n",
            " tf.cast (TFOpLambda)        (None, 224, 224, 3)       0         \n",
            "                                                                 \n",
            " resnet50 (Functional)       (None, 7, 7, 2048)        23587712  \n",
            "                                                                 \n",
            " global_average_pooling2d (G  (None, 2048)             0         \n",
            " lobalAveragePooling2D)                                          \n",
            "                                                                 \n",
            " dense (Dense)               (None, 128)               262272    \n",
            "                                                                 \n",
            " dense_1 (Dense)             (None, 64)                8256      \n",
            "                                                                 \n",
            " dense_2 (Dense)             (None, 8)                 520       \n",
            "                                                                 \n",
            "=================================================================\n",
            "Total params: 23,858,760\n",
            "Trainable params: 271,048\n",
            "Non-trainable params: 23,587,712\n",
            "_________________________________________________________________\n"
          ]
        }
      ]
    },
    {
      "cell_type": "code",
      "source": [
        "es=EarlyStopping(monitor='accuracy',verbose=1,patience=5,mode='auto')\n",
        "mc=ModelCheckpoint(filepath='/content',monitor='val_accuracy',verbose=1,save_best_only=True)\n",
        "lr=ReduceLROnPlateau(monitor='val_accuracy',verbose=1,patience=3,min_lr=0.001)"
      ],
      "metadata": {
        "id": "Za-Aa0UBktxV"
      },
      "execution_count": null,
      "outputs": []
    },
    {
      "cell_type": "code",
      "source": [
        "model_main.compile(optimizer='Adam',loss='categorical_crossentropy',metrics=['accuracy'])"
      ],
      "metadata": {
        "id": "6R4H7Zl-kuNk"
      },
      "execution_count": null,
      "outputs": []
    },
    {
      "cell_type": "code",
      "source": [
        "model_main.fit(train_data,validation_data=val_data,epochs=50, steps_per_epoch=50,verbose=1,callbacks=[es, lr, mc])"
      ],
      "metadata": {
        "colab": {
          "base_uri": "https://localhost:8080/",
          "height": 375
        },
        "id": "vtuNM5Uqkzrg",
        "outputId": "8515d0c6-681d-46e0-ce24-260e71ed74c6"
      },
      "execution_count": null,
      "outputs": [
        {
          "output_type": "stream",
          "name": "stdout",
          "text": [
            "Epoch 1/50\n",
            "16/50 [========>.....................] - ETA: 4:55 - loss: 1.9533 - accuracy: 0.2754"
          ]
        },
        {
          "output_type": "error",
          "ename": "KeyboardInterrupt",
          "evalue": "ignored",
          "traceback": [
            "\u001b[0;31m---------------------------------------------------------------------------\u001b[0m",
            "\u001b[0;31mKeyboardInterrupt\u001b[0m                         Traceback (most recent call last)",
            "\u001b[0;32m<ipython-input-18-5a7a480c2879>\u001b[0m in \u001b[0;36m<module>\u001b[0;34m\u001b[0m\n\u001b[0;32m----> 1\u001b[0;31m \u001b[0mmodel_main\u001b[0m\u001b[0;34m.\u001b[0m\u001b[0mfit\u001b[0m\u001b[0;34m(\u001b[0m\u001b[0mtrain_data\u001b[0m\u001b[0;34m,\u001b[0m\u001b[0mvalidation_data\u001b[0m\u001b[0;34m=\u001b[0m\u001b[0mval_data\u001b[0m\u001b[0;34m,\u001b[0m\u001b[0mepochs\u001b[0m\u001b[0;34m=\u001b[0m\u001b[0;36m50\u001b[0m\u001b[0;34m,\u001b[0m \u001b[0msteps_per_epoch\u001b[0m\u001b[0;34m=\u001b[0m\u001b[0;36m50\u001b[0m\u001b[0;34m,\u001b[0m\u001b[0mverbose\u001b[0m\u001b[0;34m=\u001b[0m\u001b[0;36m1\u001b[0m\u001b[0;34m,\u001b[0m\u001b[0mcallbacks\u001b[0m\u001b[0;34m=\u001b[0m\u001b[0;34m[\u001b[0m\u001b[0mes\u001b[0m\u001b[0;34m,\u001b[0m \u001b[0mlr\u001b[0m\u001b[0;34m,\u001b[0m \u001b[0mmc\u001b[0m\u001b[0;34m]\u001b[0m\u001b[0;34m)\u001b[0m\u001b[0;34m\u001b[0m\u001b[0;34m\u001b[0m\u001b[0m\n\u001b[0m",
            "\u001b[0;32m/usr/local/lib/python3.7/dist-packages/keras/utils/traceback_utils.py\u001b[0m in \u001b[0;36merror_handler\u001b[0;34m(*args, **kwargs)\u001b[0m\n\u001b[1;32m     62\u001b[0m     \u001b[0mfiltered_tb\u001b[0m \u001b[0;34m=\u001b[0m \u001b[0;32mNone\u001b[0m\u001b[0;34m\u001b[0m\u001b[0;34m\u001b[0m\u001b[0m\n\u001b[1;32m     63\u001b[0m     \u001b[0;32mtry\u001b[0m\u001b[0;34m:\u001b[0m\u001b[0;34m\u001b[0m\u001b[0;34m\u001b[0m\u001b[0m\n\u001b[0;32m---> 64\u001b[0;31m       \u001b[0;32mreturn\u001b[0m \u001b[0mfn\u001b[0m\u001b[0;34m(\u001b[0m\u001b[0;34m*\u001b[0m\u001b[0margs\u001b[0m\u001b[0;34m,\u001b[0m \u001b[0;34m**\u001b[0m\u001b[0mkwargs\u001b[0m\u001b[0;34m)\u001b[0m\u001b[0;34m\u001b[0m\u001b[0;34m\u001b[0m\u001b[0m\n\u001b[0m\u001b[1;32m     65\u001b[0m     \u001b[0;32mexcept\u001b[0m \u001b[0mException\u001b[0m \u001b[0;32mas\u001b[0m \u001b[0me\u001b[0m\u001b[0;34m:\u001b[0m  \u001b[0;31m# pylint: disable=broad-except\u001b[0m\u001b[0;34m\u001b[0m\u001b[0;34m\u001b[0m\u001b[0m\n\u001b[1;32m     66\u001b[0m       \u001b[0mfiltered_tb\u001b[0m \u001b[0;34m=\u001b[0m \u001b[0m_process_traceback_frames\u001b[0m\u001b[0;34m(\u001b[0m\u001b[0me\u001b[0m\u001b[0;34m.\u001b[0m\u001b[0m__traceback__\u001b[0m\u001b[0;34m)\u001b[0m\u001b[0;34m\u001b[0m\u001b[0;34m\u001b[0m\u001b[0m\n",
            "\u001b[0;32m/usr/local/lib/python3.7/dist-packages/keras/engine/training.py\u001b[0m in \u001b[0;36mfit\u001b[0;34m(self, x, y, batch_size, epochs, verbose, callbacks, validation_split, validation_data, shuffle, class_weight, sample_weight, initial_epoch, steps_per_epoch, validation_steps, validation_batch_size, validation_freq, max_queue_size, workers, use_multiprocessing)\u001b[0m\n\u001b[1;32m   1382\u001b[0m                 _r=1):\n\u001b[1;32m   1383\u001b[0m               \u001b[0mcallbacks\u001b[0m\u001b[0;34m.\u001b[0m\u001b[0mon_train_batch_begin\u001b[0m\u001b[0;34m(\u001b[0m\u001b[0mstep\u001b[0m\u001b[0;34m)\u001b[0m\u001b[0;34m\u001b[0m\u001b[0;34m\u001b[0m\u001b[0m\n\u001b[0;32m-> 1384\u001b[0;31m               \u001b[0mtmp_logs\u001b[0m \u001b[0;34m=\u001b[0m \u001b[0mself\u001b[0m\u001b[0;34m.\u001b[0m\u001b[0mtrain_function\u001b[0m\u001b[0;34m(\u001b[0m\u001b[0miterator\u001b[0m\u001b[0;34m)\u001b[0m\u001b[0;34m\u001b[0m\u001b[0;34m\u001b[0m\u001b[0m\n\u001b[0m\u001b[1;32m   1385\u001b[0m               \u001b[0;32mif\u001b[0m \u001b[0mdata_handler\u001b[0m\u001b[0;34m.\u001b[0m\u001b[0mshould_sync\u001b[0m\u001b[0;34m:\u001b[0m\u001b[0;34m\u001b[0m\u001b[0;34m\u001b[0m\u001b[0m\n\u001b[1;32m   1386\u001b[0m                 \u001b[0mcontext\u001b[0m\u001b[0;34m.\u001b[0m\u001b[0masync_wait\u001b[0m\u001b[0;34m(\u001b[0m\u001b[0;34m)\u001b[0m\u001b[0;34m\u001b[0m\u001b[0;34m\u001b[0m\u001b[0m\n",
            "\u001b[0;32m/usr/local/lib/python3.7/dist-packages/tensorflow/python/util/traceback_utils.py\u001b[0m in \u001b[0;36merror_handler\u001b[0;34m(*args, **kwargs)\u001b[0m\n\u001b[1;32m    148\u001b[0m     \u001b[0mfiltered_tb\u001b[0m \u001b[0;34m=\u001b[0m \u001b[0;32mNone\u001b[0m\u001b[0;34m\u001b[0m\u001b[0;34m\u001b[0m\u001b[0m\n\u001b[1;32m    149\u001b[0m     \u001b[0;32mtry\u001b[0m\u001b[0;34m:\u001b[0m\u001b[0;34m\u001b[0m\u001b[0;34m\u001b[0m\u001b[0m\n\u001b[0;32m--> 150\u001b[0;31m       \u001b[0;32mreturn\u001b[0m \u001b[0mfn\u001b[0m\u001b[0;34m(\u001b[0m\u001b[0;34m*\u001b[0m\u001b[0margs\u001b[0m\u001b[0;34m,\u001b[0m \u001b[0;34m**\u001b[0m\u001b[0mkwargs\u001b[0m\u001b[0;34m)\u001b[0m\u001b[0;34m\u001b[0m\u001b[0;34m\u001b[0m\u001b[0m\n\u001b[0m\u001b[1;32m    151\u001b[0m     \u001b[0;32mexcept\u001b[0m \u001b[0mException\u001b[0m \u001b[0;32mas\u001b[0m \u001b[0me\u001b[0m\u001b[0;34m:\u001b[0m\u001b[0;34m\u001b[0m\u001b[0;34m\u001b[0m\u001b[0m\n\u001b[1;32m    152\u001b[0m       \u001b[0mfiltered_tb\u001b[0m \u001b[0;34m=\u001b[0m \u001b[0m_process_traceback_frames\u001b[0m\u001b[0;34m(\u001b[0m\u001b[0me\u001b[0m\u001b[0;34m.\u001b[0m\u001b[0m__traceback__\u001b[0m\u001b[0;34m)\u001b[0m\u001b[0;34m\u001b[0m\u001b[0;34m\u001b[0m\u001b[0m\n",
            "\u001b[0;32m/usr/local/lib/python3.7/dist-packages/tensorflow/python/eager/def_function.py\u001b[0m in \u001b[0;36m__call__\u001b[0;34m(self, *args, **kwds)\u001b[0m\n\u001b[1;32m    913\u001b[0m \u001b[0;34m\u001b[0m\u001b[0m\n\u001b[1;32m    914\u001b[0m       \u001b[0;32mwith\u001b[0m \u001b[0mOptionalXlaContext\u001b[0m\u001b[0;34m(\u001b[0m\u001b[0mself\u001b[0m\u001b[0;34m.\u001b[0m\u001b[0m_jit_compile\u001b[0m\u001b[0;34m)\u001b[0m\u001b[0;34m:\u001b[0m\u001b[0;34m\u001b[0m\u001b[0;34m\u001b[0m\u001b[0m\n\u001b[0;32m--> 915\u001b[0;31m         \u001b[0mresult\u001b[0m \u001b[0;34m=\u001b[0m \u001b[0mself\u001b[0m\u001b[0;34m.\u001b[0m\u001b[0m_call\u001b[0m\u001b[0;34m(\u001b[0m\u001b[0;34m*\u001b[0m\u001b[0margs\u001b[0m\u001b[0;34m,\u001b[0m \u001b[0;34m**\u001b[0m\u001b[0mkwds\u001b[0m\u001b[0;34m)\u001b[0m\u001b[0;34m\u001b[0m\u001b[0;34m\u001b[0m\u001b[0m\n\u001b[0m\u001b[1;32m    916\u001b[0m \u001b[0;34m\u001b[0m\u001b[0m\n\u001b[1;32m    917\u001b[0m       \u001b[0mnew_tracing_count\u001b[0m \u001b[0;34m=\u001b[0m \u001b[0mself\u001b[0m\u001b[0;34m.\u001b[0m\u001b[0mexperimental_get_tracing_count\u001b[0m\u001b[0;34m(\u001b[0m\u001b[0;34m)\u001b[0m\u001b[0;34m\u001b[0m\u001b[0;34m\u001b[0m\u001b[0m\n",
            "\u001b[0;32m/usr/local/lib/python3.7/dist-packages/tensorflow/python/eager/def_function.py\u001b[0m in \u001b[0;36m_call\u001b[0;34m(self, *args, **kwds)\u001b[0m\n\u001b[1;32m    945\u001b[0m       \u001b[0;31m# In this case we have created variables on the first call, so we run the\u001b[0m\u001b[0;34m\u001b[0m\u001b[0;34m\u001b[0m\u001b[0;34m\u001b[0m\u001b[0m\n\u001b[1;32m    946\u001b[0m       \u001b[0;31m# defunned version which is guaranteed to never create variables.\u001b[0m\u001b[0;34m\u001b[0m\u001b[0;34m\u001b[0m\u001b[0;34m\u001b[0m\u001b[0m\n\u001b[0;32m--> 947\u001b[0;31m       \u001b[0;32mreturn\u001b[0m \u001b[0mself\u001b[0m\u001b[0;34m.\u001b[0m\u001b[0m_stateless_fn\u001b[0m\u001b[0;34m(\u001b[0m\u001b[0;34m*\u001b[0m\u001b[0margs\u001b[0m\u001b[0;34m,\u001b[0m \u001b[0;34m**\u001b[0m\u001b[0mkwds\u001b[0m\u001b[0;34m)\u001b[0m  \u001b[0;31m# pylint: disable=not-callable\u001b[0m\u001b[0;34m\u001b[0m\u001b[0;34m\u001b[0m\u001b[0m\n\u001b[0m\u001b[1;32m    948\u001b[0m     \u001b[0;32melif\u001b[0m \u001b[0mself\u001b[0m\u001b[0;34m.\u001b[0m\u001b[0m_stateful_fn\u001b[0m \u001b[0;32mis\u001b[0m \u001b[0;32mnot\u001b[0m \u001b[0;32mNone\u001b[0m\u001b[0;34m:\u001b[0m\u001b[0;34m\u001b[0m\u001b[0;34m\u001b[0m\u001b[0m\n\u001b[1;32m    949\u001b[0m       \u001b[0;31m# Release the lock early so that multiple threads can perform the call\u001b[0m\u001b[0;34m\u001b[0m\u001b[0;34m\u001b[0m\u001b[0;34m\u001b[0m\u001b[0m\n",
            "\u001b[0;32m/usr/local/lib/python3.7/dist-packages/tensorflow/python/eager/function.py\u001b[0m in \u001b[0;36m__call__\u001b[0;34m(self, *args, **kwargs)\u001b[0m\n\u001b[1;32m   2955\u001b[0m        filtered_flat_args) = self._maybe_define_function(args, kwargs)\n\u001b[1;32m   2956\u001b[0m     return graph_function._call_flat(\n\u001b[0;32m-> 2957\u001b[0;31m         filtered_flat_args, captured_inputs=graph_function.captured_inputs)  # pylint: disable=protected-access\n\u001b[0m\u001b[1;32m   2958\u001b[0m \u001b[0;34m\u001b[0m\u001b[0m\n\u001b[1;32m   2959\u001b[0m   \u001b[0;34m@\u001b[0m\u001b[0mproperty\u001b[0m\u001b[0;34m\u001b[0m\u001b[0;34m\u001b[0m\u001b[0m\n",
            "\u001b[0;32m/usr/local/lib/python3.7/dist-packages/tensorflow/python/eager/function.py\u001b[0m in \u001b[0;36m_call_flat\u001b[0;34m(self, args, captured_inputs, cancellation_manager)\u001b[0m\n\u001b[1;32m   1852\u001b[0m       \u001b[0;31m# No tape is watching; skip to running the function.\u001b[0m\u001b[0;34m\u001b[0m\u001b[0;34m\u001b[0m\u001b[0;34m\u001b[0m\u001b[0m\n\u001b[1;32m   1853\u001b[0m       return self._build_call_outputs(self._inference_function.call(\n\u001b[0;32m-> 1854\u001b[0;31m           ctx, args, cancellation_manager=cancellation_manager))\n\u001b[0m\u001b[1;32m   1855\u001b[0m     forward_backward = self._select_forward_and_backward_functions(\n\u001b[1;32m   1856\u001b[0m         \u001b[0margs\u001b[0m\u001b[0;34m,\u001b[0m\u001b[0;34m\u001b[0m\u001b[0;34m\u001b[0m\u001b[0m\n",
            "\u001b[0;32m/usr/local/lib/python3.7/dist-packages/tensorflow/python/eager/function.py\u001b[0m in \u001b[0;36mcall\u001b[0;34m(self, ctx, args, cancellation_manager)\u001b[0m\n\u001b[1;32m    502\u001b[0m               \u001b[0minputs\u001b[0m\u001b[0;34m=\u001b[0m\u001b[0margs\u001b[0m\u001b[0;34m,\u001b[0m\u001b[0;34m\u001b[0m\u001b[0;34m\u001b[0m\u001b[0m\n\u001b[1;32m    503\u001b[0m               \u001b[0mattrs\u001b[0m\u001b[0;34m=\u001b[0m\u001b[0mattrs\u001b[0m\u001b[0;34m,\u001b[0m\u001b[0;34m\u001b[0m\u001b[0;34m\u001b[0m\u001b[0m\n\u001b[0;32m--> 504\u001b[0;31m               ctx=ctx)\n\u001b[0m\u001b[1;32m    505\u001b[0m         \u001b[0;32melse\u001b[0m\u001b[0;34m:\u001b[0m\u001b[0;34m\u001b[0m\u001b[0;34m\u001b[0m\u001b[0m\n\u001b[1;32m    506\u001b[0m           outputs = execute.execute_with_cancellation(\n",
            "\u001b[0;32m/usr/local/lib/python3.7/dist-packages/tensorflow/python/eager/execute.py\u001b[0m in \u001b[0;36mquick_execute\u001b[0;34m(op_name, num_outputs, inputs, attrs, ctx, name)\u001b[0m\n\u001b[1;32m     53\u001b[0m     \u001b[0mctx\u001b[0m\u001b[0;34m.\u001b[0m\u001b[0mensure_initialized\u001b[0m\u001b[0;34m(\u001b[0m\u001b[0;34m)\u001b[0m\u001b[0;34m\u001b[0m\u001b[0;34m\u001b[0m\u001b[0m\n\u001b[1;32m     54\u001b[0m     tensors = pywrap_tfe.TFE_Py_Execute(ctx._handle, device_name, op_name,\n\u001b[0;32m---> 55\u001b[0;31m                                         inputs, attrs, num_outputs)\n\u001b[0m\u001b[1;32m     56\u001b[0m   \u001b[0;32mexcept\u001b[0m \u001b[0mcore\u001b[0m\u001b[0;34m.\u001b[0m\u001b[0m_NotOkStatusException\u001b[0m \u001b[0;32mas\u001b[0m \u001b[0me\u001b[0m\u001b[0;34m:\u001b[0m\u001b[0;34m\u001b[0m\u001b[0;34m\u001b[0m\u001b[0m\n\u001b[1;32m     57\u001b[0m     \u001b[0;32mif\u001b[0m \u001b[0mname\u001b[0m \u001b[0;32mis\u001b[0m \u001b[0;32mnot\u001b[0m \u001b[0;32mNone\u001b[0m\u001b[0;34m:\u001b[0m\u001b[0;34m\u001b[0m\u001b[0;34m\u001b[0m\u001b[0m\n",
            "\u001b[0;31mKeyboardInterrupt\u001b[0m: "
          ]
        }
      ]
    },
    {
      "cell_type": "code",
      "source": [
        "model_main.save(\"/content/drive/MyDrive/BTP/Denomination_Recognition-Models/ResNet50.h5\")"
      ],
      "metadata": {
        "colab": {
          "base_uri": "https://localhost:8080/",
          "height": 164
        },
        "id": "w-li9VdxmmfC",
        "outputId": "c5574acf-f630-4e3a-dec5-5d2f3b732070"
      },
      "execution_count": null,
      "outputs": [
        {
          "output_type": "error",
          "ename": "NameError",
          "evalue": "ignored",
          "traceback": [
            "\u001b[0;31m---------------------------------------------------------------------------\u001b[0m",
            "\u001b[0;31mNameError\u001b[0m                                 Traceback (most recent call last)",
            "\u001b[0;32m<ipython-input-1-c9a4b2dfa188>\u001b[0m in \u001b[0;36m<module>\u001b[0;34m\u001b[0m\n\u001b[0;32m----> 1\u001b[0;31m \u001b[0mmodel_main\u001b[0m\u001b[0;34m.\u001b[0m\u001b[0msave\u001b[0m\u001b[0;34m(\u001b[0m\u001b[0;34m\"/content/drive/MyDrive/BTP/Recog_Models/ResNet50.h5\"\u001b[0m\u001b[0;34m)\u001b[0m\u001b[0;34m\u001b[0m\u001b[0;34m\u001b[0m\u001b[0m\n\u001b[0m",
            "\u001b[0;31mNameError\u001b[0m: name 'model_main' is not defined"
          ]
        }
      ]
    },
    {
      "cell_type": "code",
      "source": [
        "plt.figure(figsize=(10,5))\n",
        "plt.plot(model_main.history.history['loss'],color='b',label='Training loss')\n",
        "plt.plot(model_main.history.history['val_loss'],color='r',label='Validation loss')\n",
        "plt.xlabel(\"epochs\")\n",
        "plt.ylabel(\"loss\")\n",
        "plt.legend(['train', 'validation'], loc='upper right')\n",
        "plt.title(\"model loss\")"
      ],
      "metadata": {
        "colab": {
          "base_uri": "https://localhost:8080/",
          "height": 232
        },
        "id": "W4maXffImoyd",
        "outputId": "9e060d55-d7f2-4588-e3a0-f737dc4c6b57"
      },
      "execution_count": null,
      "outputs": [
        {
          "output_type": "error",
          "ename": "NameError",
          "evalue": "ignored",
          "traceback": [
            "\u001b[0;31m---------------------------------------------------------------------------\u001b[0m",
            "\u001b[0;31mNameError\u001b[0m                                 Traceback (most recent call last)",
            "\u001b[0;32m<ipython-input-2-aee90b8bc643>\u001b[0m in \u001b[0;36m<module>\u001b[0;34m\u001b[0m\n\u001b[0;32m----> 1\u001b[0;31m \u001b[0mplt\u001b[0m\u001b[0;34m.\u001b[0m\u001b[0mfigure\u001b[0m\u001b[0;34m(\u001b[0m\u001b[0mfigsize\u001b[0m\u001b[0;34m=\u001b[0m\u001b[0;34m(\u001b[0m\u001b[0;36m10\u001b[0m\u001b[0;34m,\u001b[0m\u001b[0;36m5\u001b[0m\u001b[0;34m)\u001b[0m\u001b[0;34m)\u001b[0m\u001b[0;34m\u001b[0m\u001b[0;34m\u001b[0m\u001b[0m\n\u001b[0m\u001b[1;32m      2\u001b[0m \u001b[0mplt\u001b[0m\u001b[0;34m.\u001b[0m\u001b[0mplot\u001b[0m\u001b[0;34m(\u001b[0m\u001b[0mmodel_main\u001b[0m\u001b[0;34m.\u001b[0m\u001b[0mhistory\u001b[0m\u001b[0;34m.\u001b[0m\u001b[0mhistory\u001b[0m\u001b[0;34m[\u001b[0m\u001b[0;34m'loss'\u001b[0m\u001b[0;34m]\u001b[0m\u001b[0;34m,\u001b[0m\u001b[0mcolor\u001b[0m\u001b[0;34m=\u001b[0m\u001b[0;34m'b'\u001b[0m\u001b[0;34m,\u001b[0m\u001b[0mlabel\u001b[0m\u001b[0;34m=\u001b[0m\u001b[0;34m'Training loss'\u001b[0m\u001b[0;34m)\u001b[0m\u001b[0;34m\u001b[0m\u001b[0;34m\u001b[0m\u001b[0m\n\u001b[1;32m      3\u001b[0m \u001b[0mplt\u001b[0m\u001b[0;34m.\u001b[0m\u001b[0mplot\u001b[0m\u001b[0;34m(\u001b[0m\u001b[0mmodel_main\u001b[0m\u001b[0;34m.\u001b[0m\u001b[0mhistory\u001b[0m\u001b[0;34m.\u001b[0m\u001b[0mhistory\u001b[0m\u001b[0;34m[\u001b[0m\u001b[0;34m'val_loss'\u001b[0m\u001b[0;34m]\u001b[0m\u001b[0;34m,\u001b[0m\u001b[0mcolor\u001b[0m\u001b[0;34m=\u001b[0m\u001b[0;34m'r'\u001b[0m\u001b[0;34m,\u001b[0m\u001b[0mlabel\u001b[0m\u001b[0;34m=\u001b[0m\u001b[0;34m'Validation loss'\u001b[0m\u001b[0;34m)\u001b[0m\u001b[0;34m\u001b[0m\u001b[0;34m\u001b[0m\u001b[0m\n\u001b[1;32m      4\u001b[0m \u001b[0mplt\u001b[0m\u001b[0;34m.\u001b[0m\u001b[0mxlabel\u001b[0m\u001b[0;34m(\u001b[0m\u001b[0;34m\"epochs\"\u001b[0m\u001b[0;34m)\u001b[0m\u001b[0;34m\u001b[0m\u001b[0;34m\u001b[0m\u001b[0m\n\u001b[1;32m      5\u001b[0m \u001b[0mplt\u001b[0m\u001b[0;34m.\u001b[0m\u001b[0mylabel\u001b[0m\u001b[0;34m(\u001b[0m\u001b[0;34m\"loss\"\u001b[0m\u001b[0;34m)\u001b[0m\u001b[0;34m\u001b[0m\u001b[0;34m\u001b[0m\u001b[0m\n",
            "\u001b[0;31mNameError\u001b[0m: name 'plt' is not defined"
          ]
        }
      ]
    },
    {
      "cell_type": "code",
      "source": [
        "plt.figure(figsize=(10,5))\n",
        "plt.plot(model_main.history.history['accuracy'],color='b',label='Training accuracy')\n",
        "plt.plot(model_main.history.history['val_accuracy'],color='r',label='Validation accsuracy')\n",
        "plt.xlabel(\"epochs\")\n",
        "plt.ylabel(\"accuracy\")\n",
        "plt.legend(['train', 'validation'], loc='lower right')\n",
        "plt.title(\"model accuracy\")"
      ],
      "metadata": {
        "colab": {
          "base_uri": "https://localhost:8080/",
          "height": 367
        },
        "id": "XlCxhxPrmtVB",
        "outputId": "cc2a49ac-0a36-4ea9-f27a-2efb80a117b5"
      },
      "execution_count": null,
      "outputs": [
        {
          "output_type": "execute_result",
          "data": {
            "text/plain": [
              "Text(0.5, 1.0, 'model accuracy')"
            ]
          },
          "metadata": {},
          "execution_count": 45
        },
        {
          "output_type": "display_data",
          "data": {
            "text/plain": [
              "<Figure size 720x360 with 1 Axes>"
            ],
            "image/png": "[encoded data removed]"
          },
          "metadata": {
            "needs_background": "light"
          }
        }
      ]
    },
    {
      "cell_type": "code",
      "source": [
        "#ResNet50\n",
        "loss, accuracy = model_main.evaluate(train_data, verbose=1)\n",
        "print(\"Trainmodel_main: accuracy = %f  ;  loss = %f\" % (accuracy, loss))\n",
        "\n",
        "loss, accuracy = model_main.evaluate(val_data, verbose=1)\n",
        "print(\"Validation: accuracy = %f  ;  loss = %f\" % (accuracy, loss))\n",
        "\n",
        "loss, accuracy = model_main.evaluate(test_data, verbose=1)\n",
        "print(\"Test: accuracy = %f  ;  loss = %f\" % (accuracy, loss))"
      ],
      "metadata": {
        "colab": {
          "base_uri": "https://localhost:8080/"
        },
        "id": "mYxvWqyhmvfN",
        "outputId": "1f832324-46fd-45bb-a02a-7056e2172f86"
      },
      "execution_count": null,
      "outputs": [
        {
          "output_type": "stream",
          "name": "stdout",
          "text": [
            "112/112 [==============================] - 250s 2s/step - loss: 0.1233 - accuracy: 0.9588\n",
            "Trainmodel_main: accuracy = 0.958777  ;  loss = 0.123291\n",
            "11/11 [==============================] - 20s 2s/step - loss: 0.3228 - accuracy: 0.8899\n",
            "Validation: accuracy = 0.889855  ;  loss = 0.322841\n",
            "3/3 [==============================] - 7s 2s/step - loss: 0.1304 - accuracy: 0.9560\n",
            "Test: accuracy = 0.956044  ;  loss = 0.130400\n"
          ]
        }
      ]
    },
    {
      "cell_type": "code",
      "source": [
        "#evaluated again on efficientnetv2s\n",
        "loss, accuracy = model.evaluate(train_data, verbose=1)\n",
        "print(\"Trainmodel_main: accuracy = %f  ;  loss = %f\" % (accuracy, loss))\n",
        "\n",
        "loss, accuracy = model.evaluate(val_data, verbose=1)\n",
        "print(\"Validation: accuracy = %f  ;  loss = %f\" % (accuracy, loss))\n",
        "\n",
        "loss, accuracy = model.evaluate(test_data, verbose=1)\n",
        "print(\"Test: accuracy = %f  ;  loss = %f\" % (accuracy, loss))"
      ],
      "metadata": {
        "colab": {
          "base_uri": "https://localhost:8080/"
        },
        "id": "dzqVoUSrTcmo",
        "outputId": "d61fd91d-b370-4a3f-9ebf-e2490830262f"
      },
      "execution_count": null,
      "outputs": [
        {
          "output_type": "stream",
          "name": "stdout",
          "text": [
            "112/112 [==============================] - 929s 8s/step - loss: 0.0948 - accuracy: 0.9706\n",
            "Trainmodel_main: accuracy = 0.970555  ;  loss = 0.094801\n",
            " 9/11 [=======================>......] - ETA: 16s - loss: 0.2650 - accuracy: 0.9201"
          ]
        },
        {
          "output_type": "stream",
          "name": "stderr",
          "text": [
            "/usr/local/lib/python3.7/dist-packages/PIL/TiffImagePlugin.py:788: UserWarning: Corrupt EXIF data.  Expecting to read 4 bytes but only got 0. \n",
            "  warnings.warn(str(msg))\n"
          ]
        },
        {
          "output_type": "stream",
          "name": "stdout",
          "text": [
            "11/11 [==============================] - 87s 8s/step - loss: 0.2305 - accuracy: 0.9304\n",
            "Validation: accuracy = 0.930435  ;  loss = 0.230535\n",
            "3/3 [==============================] - 24s 7s/step - loss: 0.0482 - accuracy: 0.9890\n",
            "Test: accuracy = 0.989011  ;  loss = 0.048201\n"
          ]
        }
      ]
    },
    {
      "cell_type": "markdown",
      "source": [
        "Evaluate"
      ],
      "metadata": {
        "id": "0EE-04sE6qYC"
      }
    },
    {
      "cell_type": "code",
      "source": [
        "from tensorflow.keras.models import load_model\n",
        "model=load_model(\"/content/drive/MyDrive/BTP/Denomination_Recognition-Models/EfficientNetV2S.h5\")"
      ],
      "metadata": {
        "id": "_EI-MhTYQiDz"
      },
      "execution_count": null,
      "outputs": []
    },
    {
      "cell_type": "code",
      "source": [
        "from tensorflow.keras.preprocessing import image\n",
        "\n",
        "def prediction(file_name):\n",
        "    img = image.load_img(file_name, target_size=(224,224))\n",
        "\n",
        "    image_to_test = image.img_to_array(img)\n",
        "\n",
        "    list_of_images = np.expand_dims(image_to_test, axis=0)\n",
        "\n",
        "    results = model.predict(list_of_images)\n",
        "\n",
        "    single_result = results[0]\n",
        "\n",
        "    most_likely_class_index = int(np.argmax(single_result))\n",
        "\n",
        "    class_likelihood = single_result[most_likely_class_index]\n",
        "\n",
        "    class_label = classes[most_likely_class_index]\n",
        "\n",
        "    print(file_name)\n",
        "    plt.imshow(img)\n",
        "    \n",
        "    print(\"This image is a {} - Likelihood: {:2f}\".format(class_label, class_likelihood))"
      ],
      "metadata": {
        "id": "tp_8SECZ6p1t"
      },
      "execution_count": null,
      "outputs": []
    },
    {
      "cell_type": "code",
      "source": [
        "prediction('/content/dataset_r_kaggle/test/200/200.__1.jpg')"
      ],
      "metadata": {
        "colab": {
          "base_uri": "https://localhost:8080/",
          "height": 303
        },
        "id": "OK4It8QNScMA",
        "outputId": "d6fa8311-cf6f-4852-cc99-99bee730dcb8"
      },
      "execution_count": null,
      "outputs": [
        {
          "output_type": "stream",
          "name": "stdout",
          "text": [
            "/content/dataset_r_kaggle/test/200/200.__1.jpg\n",
            "This image is a 200 - Likelihood: 0.999046\n"
          ]
        },
        {
          "output_type": "display_data",
          "data": {
            "text/plain": [
              "<Figure size 432x288 with 1 Axes>"
            ],
            "image/png": "[encoded data removed]"
          },
          "metadata": {
            "needs_background": "light"
          }
        }
      ]
    }
  ]
}