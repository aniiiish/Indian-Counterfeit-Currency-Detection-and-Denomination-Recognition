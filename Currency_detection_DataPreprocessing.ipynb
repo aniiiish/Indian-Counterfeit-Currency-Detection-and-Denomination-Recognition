{
  "nbformat": 4,
  "nbformat_minor": 0,
  "metadata": {
    "colab": {
      "provenance": [],
      "collapsed_sections": []
    },
    "kernelspec": {
      "name": "python3",
      "display_name": "Python 3"
    },
    "language_info": {
      "name": "python"
    }
  },
  "cells": [
    {
      "cell_type": "code",
      "source": [
        "from google.colab import drive\n",
        "drive.mount(\"/content/drive\", force_remount=True)"
      ],
      "metadata": {
        "id": "GA94wZdrwdHg",
        "colab": {
          "base_uri": "https://localhost:8080/",
          "height": 324
        },
        "outputId": "43b8b83c-64ef-4683-c5cf-1a0a852d6369"
      },
      "execution_count": null,
      "outputs": [
        {
          "output_type": "error",
          "ename": "KeyboardInterrupt",
          "evalue": "ignored",
          "traceback": [
            "\u001b[0;31m---------------------------------------------------------------------------\u001b[0m",
            "\u001b[0;31mKeyboardInterrupt\u001b[0m                         Traceback (most recent call last)",
            "\u001b[0;32m<ipython-input-1-7a9d054e34e8>\u001b[0m in \u001b[0;36m<module>\u001b[0;34m\u001b[0m\n\u001b[1;32m      1\u001b[0m \u001b[0;32mfrom\u001b[0m \u001b[0mgoogle\u001b[0m\u001b[0;34m.\u001b[0m\u001b[0mcolab\u001b[0m \u001b[0;32mimport\u001b[0m \u001b[0mdrive\u001b[0m\u001b[0;34m\u001b[0m\u001b[0;34m\u001b[0m\u001b[0m\n\u001b[0;32m----> 2\u001b[0;31m \u001b[0mdrive\u001b[0m\u001b[0;34m.\u001b[0m\u001b[0mmount\u001b[0m\u001b[0;34m(\u001b[0m\u001b[0;34m\"/content/drive\"\u001b[0m\u001b[0;34m,\u001b[0m \u001b[0mforce_remount\u001b[0m\u001b[0;34m=\u001b[0m\u001b[0;32mTrue\u001b[0m\u001b[0;34m)\u001b[0m\u001b[0;34m\u001b[0m\u001b[0;34m\u001b[0m\u001b[0m\n\u001b[0m",
            "\u001b[0;32m/usr/local/lib/python3.7/dist-packages/google/colab/drive.py\u001b[0m in \u001b[0;36mmount\u001b[0;34m(mountpoint, force_remount, timeout_ms)\u001b[0m\n\u001b[1;32m    103\u001b[0m       \u001b[0mforce_remount\u001b[0m\u001b[0;34m=\u001b[0m\u001b[0mforce_remount\u001b[0m\u001b[0;34m,\u001b[0m\u001b[0;34m\u001b[0m\u001b[0;34m\u001b[0m\u001b[0m\n\u001b[1;32m    104\u001b[0m       \u001b[0mtimeout_ms\u001b[0m\u001b[0;34m=\u001b[0m\u001b[0mtimeout_ms\u001b[0m\u001b[0;34m,\u001b[0m\u001b[0;34m\u001b[0m\u001b[0;34m\u001b[0m\u001b[0m\n\u001b[0;32m--> 105\u001b[0;31m       ephemeral=True)\n\u001b[0m\u001b[1;32m    106\u001b[0m \u001b[0;34m\u001b[0m\u001b[0m\n\u001b[1;32m    107\u001b[0m \u001b[0;34m\u001b[0m\u001b[0m\n",
            "\u001b[0;32m/usr/local/lib/python3.7/dist-packages/google/colab/drive.py\u001b[0m in \u001b[0;36m_mount\u001b[0;34m(mountpoint, force_remount, timeout_ms, ephemeral)\u001b[0m\n\u001b[1;32m    118\u001b[0m   \u001b[0;32mif\u001b[0m \u001b[0mephemeral\u001b[0m\u001b[0;34m:\u001b[0m\u001b[0;34m\u001b[0m\u001b[0;34m\u001b[0m\u001b[0m\n\u001b[1;32m    119\u001b[0m     _message.blocking_request(\n\u001b[0;32m--> 120\u001b[0;31m         'request_auth', request={'authType': 'dfs_ephemeral'}, timeout_sec=None)\n\u001b[0m\u001b[1;32m    121\u001b[0m \u001b[0;34m\u001b[0m\u001b[0m\n\u001b[1;32m    122\u001b[0m   \u001b[0mmountpoint\u001b[0m \u001b[0;34m=\u001b[0m \u001b[0m_os\u001b[0m\u001b[0;34m.\u001b[0m\u001b[0mpath\u001b[0m\u001b[0;34m.\u001b[0m\u001b[0mexpanduser\u001b[0m\u001b[0;34m(\u001b[0m\u001b[0mmountpoint\u001b[0m\u001b[0;34m)\u001b[0m\u001b[0;34m\u001b[0m\u001b[0;34m\u001b[0m\u001b[0m\n",
            "\u001b[0;32m/usr/local/lib/python3.7/dist-packages/google/colab/_message.py\u001b[0m in \u001b[0;36mblocking_request\u001b[0;34m(request_type, request, timeout_sec, parent)\u001b[0m\n\u001b[1;32m    169\u001b[0m   request_id = send_request(\n\u001b[1;32m    170\u001b[0m       request_type, request, parent=parent, expect_reply=True)\n\u001b[0;32m--> 171\u001b[0;31m   \u001b[0;32mreturn\u001b[0m \u001b[0mread_reply_from_input\u001b[0m\u001b[0;34m(\u001b[0m\u001b[0mrequest_id\u001b[0m\u001b[0;34m,\u001b[0m \u001b[0mtimeout_sec\u001b[0m\u001b[0;34m)\u001b[0m\u001b[0;34m\u001b[0m\u001b[0;34m\u001b[0m\u001b[0m\n\u001b[0m",
            "\u001b[0;32m/usr/local/lib/python3.7/dist-packages/google/colab/_message.py\u001b[0m in \u001b[0;36mread_reply_from_input\u001b[0;34m(message_id, timeout_sec)\u001b[0m\n\u001b[1;32m     95\u001b[0m     \u001b[0mreply\u001b[0m \u001b[0;34m=\u001b[0m \u001b[0m_read_next_input_message\u001b[0m\u001b[0;34m(\u001b[0m\u001b[0;34m)\u001b[0m\u001b[0;34m\u001b[0m\u001b[0;34m\u001b[0m\u001b[0m\n\u001b[1;32m     96\u001b[0m     \u001b[0;32mif\u001b[0m \u001b[0mreply\u001b[0m \u001b[0;34m==\u001b[0m \u001b[0m_NOT_READY\u001b[0m \u001b[0;32mor\u001b[0m \u001b[0;32mnot\u001b[0m \u001b[0misinstance\u001b[0m\u001b[0;34m(\u001b[0m\u001b[0mreply\u001b[0m\u001b[0;34m,\u001b[0m \u001b[0mdict\u001b[0m\u001b[0;34m)\u001b[0m\u001b[0;34m:\u001b[0m\u001b[0;34m\u001b[0m\u001b[0;34m\u001b[0m\u001b[0m\n\u001b[0;32m---> 97\u001b[0;31m       \u001b[0mtime\u001b[0m\u001b[0;34m.\u001b[0m\u001b[0msleep\u001b[0m\u001b[0;34m(\u001b[0m\u001b[0;36m0.025\u001b[0m\u001b[0;34m)\u001b[0m\u001b[0;34m\u001b[0m\u001b[0;34m\u001b[0m\u001b[0m\n\u001b[0m\u001b[1;32m     98\u001b[0m       \u001b[0;32mcontinue\u001b[0m\u001b[0;34m\u001b[0m\u001b[0;34m\u001b[0m\u001b[0m\n\u001b[1;32m     99\u001b[0m     if (reply.get('type') == 'colab_reply' and\n",
            "\u001b[0;31mKeyboardInterrupt\u001b[0m: "
          ]
        }
      ]
    },
    {
      "cell_type": "code",
      "source": [
        "!unzip -q \"/content/drive/MyDrive/BTP/BTP_Final Dataset.zip\" -d '/content'"
      ],
      "metadata": {
        "id": "9GXnNYVwZyh-"
      },
      "execution_count": null,
      "outputs": []
    },
    {
      "cell_type": "code",
      "source": [
        "import os\n",
        "import numpy as np\n",
        "import cv2\n",
        "import matplotlib.pyplot as plt\n",
        "from keras.preprocessing.image import ImageDataGenerator\n",
        "from skimage import io\n",
        "from PIL import Image"
      ],
      "metadata": {
        "id": "dQ3b5eVPbz_v"
      },
      "execution_count": null,
      "outputs": []
    },
    {
      "cell_type": "code",
      "source": [
        "!ls \"/content/BTP_Final Dataset/Real\" -a\n",
        "!rm \"/content/BTP_Final Dataset/Real//train/.DS_Store\"\n",
        "!rm \"/content/BTP_Final Dataset/Real/test/.DS_Store\"\n",
        "!rm \"/content/BTP_Final Dataset/Fake/train/.DS_Store\"\n",
        "!rm \"/content/BTP_Final Dataset/Fake/test/.DS_Store\""
      ],
      "metadata": {
        "colab": {
          "base_uri": "https://localhost:8080/"
        },
        "id": "Vey1cagZc2Xf",
        "outputId": "4c75755c-eba3-480e-c49a-ff79ce074d58"
      },
      "execution_count": null,
      "outputs": [
        {
          "output_type": "stream",
          "name": "stdout",
          "text": [
            ".  ..  .DS_Store  test\ttrain\n"
          ]
        }
      ]
    },
    {
      "cell_type": "code",
      "source": [
        "def augment(input_dir, output_dir):\n",
        "  image_directory = input_dir\n",
        "\n",
        "  my_images = os.listdir(image_directory)\n",
        "  SIZE = 224\n",
        "\n",
        "  datagen = ImageDataGenerator(        \n",
        "        rotation_range = 30#\n",
        "        shear_range = 0.2,\n",
        "        zoom_range = 0.2,#\n",
        "        horizontal_flip = False,#\n",
        "        brightness_range = (0.5, 1.2))\n",
        "\n",
        "  dataset = []\n",
        "\n",
        "  for i, image_name in enumerate(my_images):    \n",
        "    if (image_name.split('.')[1] == 'jpg'):       \n",
        "      image = io.imread(image_directory + image_name)        \n",
        "      image = Image.fromarray(image, 'RGB')        \n",
        "      image = image.resize((SIZE,SIZE)) \n",
        "      dataset.append(np.array(image))\n",
        "  i = 1\n",
        "  x = np.array(dataset)\n",
        "  for batch in datagen.flow(x, batch_size=1,\n",
        "                            save_to_dir=output_dir,\n",
        "                            save_prefix='dr',\n",
        "                            save_format='jpg'):    \n",
        "      i += 1    \n",
        "      if i > 8000:        \n",
        "          break\n",
        "\n",
        "  my_images_d = os.listdir(output_dir)\n",
        "  print(len(my_images_d))"
      ],
      "metadata": {
        "id": "qIyNIYC-nkq-"
      },
      "execution_count": null,
      "outputs": []
    },
    {
      "cell_type": "code",
      "source": [
        "augment(\"/content/BTP_Final Dataset/Real/train/\", \"/content/drive/MyDrive/BTP/dataset/train/real/\")"
      ],
      "metadata": {
        "colab": {
          "base_uri": "https://localhost:8080/"
        },
        "id": "WQkm-uUmoZ4m",
        "outputId": "1651bb3d-0d09-4d7d-d6f8-704649c56a3b"
      },
      "execution_count": null,
      "outputs": [
        {
          "output_type": "stream",
          "name": "stdout",
          "text": [
            "7978\n"
          ]
        }
      ]
    },
    {
      "cell_type": "code",
      "source": [
        "augment(\"/content/BTP_Final Dataset/Fake/train/\", \"/content/drive/MyDrive/BTP/dataset/train/fake/\")"
      ],
      "metadata": {
        "colab": {
          "base_uri": "https://localhost:8080/"
        },
        "id": "IwC8yZTJ0tP1",
        "outputId": "3d26bab8-3621-4745-de04-8f50c33aca23"
      },
      "execution_count": null,
      "outputs": [
        {
          "output_type": "stream",
          "name": "stdout",
          "text": [
            "7984\n"
          ]
        }
      ]
    },
    {
      "cell_type": "code",
      "source": [
        "def augment_test(input_dir, output_dir):\n",
        "  image_directory = input_dir\n",
        "\n",
        "  my_images = os.listdir(image_directory)\n",
        "  SIZE = 224\n",
        "\n",
        "  datagen = ImageDataGenerator(        \n",
        "        rotation_range = 30,\n",
        "        shear_range = 0.2,\n",
        "        zoom_range = 0.2,\n",
        "        horizontal_flip = False,\n",
        "        brightness_range = (0.5, 1.2))\n",
        "\n",
        "  dataset = []\n",
        "\n",
        "  for i, image_name in enumerate(my_images):    \n",
        "    if (image_name.split('.')[1] == 'jpg'):       \n",
        "      image = io.imread(image_directory + image_name)        \n",
        "      image = Image.fromarray(image, 'RGB')        \n",
        "      image = image.resize((SIZE,SIZE)) \n",
        "      dataset.append(np.array(image))\n",
        "  i = 1\n",
        "  x = np.array(dataset)\n",
        "  for batch in datagen.flow(x, batch_size=1,\n",
        "                            save_to_dir=output_dir,\n",
        "                            save_prefix='dr',\n",
        "                            save_format='jpg'):    \n",
        "      i += 1    \n",
        "      if i > 2000:        \n",
        "          break\n",
        "\n",
        "  my_images_d = os.listdir(output_dir)\n",
        "  print(len(my_images_d))"
      ],
      "metadata": {
        "id": "q34x5yat1WuH"
      },
      "execution_count": null,
      "outputs": []
    },
    {
      "cell_type": "code",
      "source": [
        "augment_test(\"/content/BTP_Final Dataset/Real/test/\", \"/content/drive/MyDrive/BTP/dataset/test/real/\")"
      ],
      "metadata": {
        "colab": {
          "base_uri": "https://localhost:8080/"
        },
        "id": "ao_BPLDT0sdc",
        "outputId": "3ae85cd5-6712-4ddc-bdbb-bbaf19de834e"
      },
      "execution_count": null,
      "outputs": [
        {
          "output_type": "stream",
          "name": "stdout",
          "text": [
            "1999\n"
          ]
        }
      ]
    },
    {
      "cell_type": "code",
      "source": [
        "augment_test(\"/content/BTP_Final Dataset/Fake/test/\", \"/content/drive/MyDrive/BTP/dataset/test/fake/\")"
      ],
      "metadata": {
        "colab": {
          "base_uri": "https://localhost:8080/"
        },
        "id": "46KdTgE10ton",
        "outputId": "c5c491ce-870c-4c61-beee-4d9f041ea3a9"
      },
      "execution_count": null,
      "outputs": [
        {
          "output_type": "stream",
          "name": "stdout",
          "text": [
            "1999\n"
          ]
        }
      ]
    },
    {
      "cell_type": "code",
      "source": [
        "data_dir = '/content/drive/MyDrive/BTP/dataset'\n",
        "train_dir = data_dir + '/train'\n",
        "test_dir = data_dir + '/test'\n",
        "valid_dir = data_dir + '/valid'"
      ],
      "metadata": {
        "id": "uyWQOTq7iIxw"
      },
      "execution_count": null,
      "outputs": []
    },
    {
      "cell_type": "code",
      "source": [
        "import os, shutil"
      ],
      "metadata": {
        "id": "RAgl8intkIMb"
      },
      "execution_count": null,
      "outputs": []
    },
    {
      "cell_type": "code",
      "source": [
        "fake_dir = os.listdir(\"/content/drive/MyDrive/BTP/dataset/train/fake/\")\n",
        "real_dir = os.listdir(\"/content/drive/MyDrive/BTP/dataset/train/real/\")\n",
        "print(len(fake_dir), len(real_dir))"
      ],
      "metadata": {
        "colab": {
          "base_uri": "https://localhost:8080/"
        },
        "id": "pJgKtGFt795c",
        "outputId": "34e94ee4-1d02-4f4b-a3f5-7299173fd8d3"
      },
      "execution_count": null,
      "outputs": [
        {
          "output_type": "stream",
          "name": "stdout",
          "text": [
            "7984 7978\n"
          ]
        }
      ]
    },
    {
      "cell_type": "code",
      "source": [
        "valid = \"/content/drive/MyDrive/BTP/dataset/valid/\"\n",
        "def val_split(path_dir, fakebool, realbool):\n",
        "  x = len(path_dir)\n",
        "  y = int(x*(0.2))\n",
        "  print(y)\n",
        "  for i in path_dir:\n",
        "    if y==0:\n",
        "      break\n",
        "    y = y-1\n",
        "    if fakebool:\n",
        "      s = train_dir + \"/fake/\" + i\n",
        "      d = valid + \"/fake/\" + i\n",
        "      if os.path.isfile(s):\n",
        "        shutil.move(s, d)\n",
        "    if realbool:\n",
        "      s = train_dir + \"/real/\" + i\n",
        "      d = valid + \"/real/\" + i\n",
        "      if os.path.isfile(s):\n",
        "        shutil.move(s, d)\n",
        "\n",
        "val_split(fake_dir, True, False)\n",
        "val_split(real_dir, False, True)\n"
      ],
      "metadata": {
        "id": "O2Hgl1P1gBmr",
        "colab": {
          "base_uri": "https://localhost:8080/"
        },
        "outputId": "b092b61f-e3e0-4b6c-cdb0-c788aa0a0561"
      },
      "execution_count": null,
      "outputs": [
        {
          "output_type": "stream",
          "name": "stdout",
          "text": [
            "1596\n",
            "1595\n"
          ]
        }
      ]
    },
    {
      "cell_type": "code",
      "source": [
        "fake_dir = os.listdir(\"/content/drive/MyDrive/BTP/dataset/train/fake/\")\n",
        "real_dir = os.listdir(\"/content/drive/MyDrive/BTP/dataset/train/real/\")\n",
        "print(len(fake_dir), len(real_dir))"
      ],
      "metadata": {
        "colab": {
          "base_uri": "https://localhost:8080/"
        },
        "id": "nlbhUcd3kUng",
        "outputId": "bbfc812a-d9c3-4100-a56f-e1b7c58140c1"
      },
      "execution_count": null,
      "outputs": [
        {
          "output_type": "stream",
          "name": "stdout",
          "text": [
            "6388 6383\n"
          ]
        }
      ]
    },
    {
      "cell_type": "code",
      "source": [
        "val_fake = \"/content/drive/MyDrive/BTP/dataset/valid/fake\"\n",
        "val_real = \"/content/drive/MyDrive/BTP/dataset/valid/real\"\n",
        "print(len(os.listdir(val_fake)), len(os.listdir(val_real)))"
      ],
      "metadata": {
        "id": "97rDMieLgCTx",
        "colab": {
          "base_uri": "https://localhost:8080/"
        },
        "outputId": "c8f1bda4-de6d-477e-9ebe-0693bede6b75"
      },
      "execution_count": null,
      "outputs": [
        {
          "output_type": "stream",
          "name": "stdout",
          "text": [
            "1596 1595\n"
          ]
        }
      ]
    },
    {
      "cell_type": "code",
      "source": [
        "# shutil.copytree(\"/content/valid\", \"/content/drive/MyDrive/BTP/dataset/valid\")"
      ],
      "metadata": {
        "id": "w3XlTmHqjBr8"
      },
      "execution_count": null,
      "outputs": []
    }
  ]
}